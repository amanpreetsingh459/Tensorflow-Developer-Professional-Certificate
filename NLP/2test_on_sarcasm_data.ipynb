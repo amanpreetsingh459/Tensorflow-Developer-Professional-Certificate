{
 "cells": [
  {
   "cell_type": "code",
   "execution_count": 5,
   "metadata": {},
   "outputs": [
    {
     "name": "stderr",
     "output_type": "stream",
     "text": [
      "  % Total    % Received % Xferd  Average Speed   Time    Time     Time  Current\n",
      "                                 Dload  Upload   Total   Spent    Left  Speed\n",
      "\n",
      "  0     0    0     0    0     0      0      0 --:--:-- --:--:-- --:--:--     0\n",
      "  0 5511k    0   290    0     0    290      0  5:24:20 --:--:--  5:24:20   356\n",
      "  5 5511k    5  324k    0     0   324k      0  0:00:17  0:00:01  0:00:16  170k\n",
      " 15 5511k   15  877k    0     0   438k      0  0:00:12  0:00:02  0:00:10  312k\n",
      " 27 5511k   27 1520k    0     0   506k      0  0:00:10  0:00:03  0:00:07  398k\n",
      " 35 5511k   35 1952k    0     0   390k      0  0:00:14  0:00:05  0:00:09  365k\n",
      " 38 5511k   38 2096k    0     0   349k      0  0:00:15  0:00:06  0:00:09  401k\n",
      " 44 5511k   44 2464k    0     0   410k      0  0:00:13  0:00:06  0:00:07  436k\n",
      " 51 5511k   51 2819k    0     0   402k      0  0:00:13  0:00:07  0:00:06  388k\n",
      " 58 5511k   58 3212k    0     0   401k      0  0:00:13  0:00:08  0:00:05  337k\n",
      " 64 5511k   64 3577k    0     0   397k      0  0:00:13  0:00:09  0:00:04  363k\n",
      " 75 5511k   75 4135k    0     0   413k      0  0:00:13  0:00:10  0:00:03  426k\n",
      " 84 5511k   84 4649k    0     0   422k      0  0:00:13  0:00:11  0:00:02  437k\n",
      " 92 5511k   92 5072k    0     0   422k      0  0:00:13  0:00:12  0:00:01  450k\n",
      "100 5511k  100 5511k    0     0   423k      0  0:00:13  0:00:13 --:--:--  476k\n"
     ]
    }
   ],
   "source": [
    "!curl -o sarcasm.json https://storage.googleapis.com/laurencemoroney-blog.appspot.com/sarcasm.json"
   ]
  },
  {
   "cell_type": "code",
   "execution_count": 1,
   "metadata": {},
   "outputs": [],
   "source": [
    "import json\n",
    "\n",
    "with open(\"sarcasm.json\", 'r') as f:\n",
    "    datastore = json.load(f)"
   ]
  },
  {
   "cell_type": "code",
   "execution_count": 2,
   "metadata": {},
   "outputs": [],
   "source": [
    "sentences = [] \n",
    "labels = []\n",
    "urls = []\n",
    "for item in datastore:\n",
    "    sentences.append(item['headline'])\n",
    "    labels.append(item['is_sarcastic'])\n",
    "    urls.append(item['article_link'])"
   ]
  },
  {
   "cell_type": "code",
   "execution_count": 3,
   "metadata": {},
   "outputs": [
    {
     "name": "stdout",
     "output_type": "stream",
     "text": [
      "26709\n",
      "26709\n",
      "26709\n",
      "former versace store clerk sues over secret 'black code' for minority shoppers\n",
      "0\n",
      "https://www.huffingtonpost.com/entry/versace-black-code_us_5861fbefe4b0de3a08f600d5\n"
     ]
    }
   ],
   "source": [
    "print(len(sentences))\n",
    "print(len(labels))\n",
    "print(len(urls))\n",
    "print(sentences[0])\n",
    "print(labels[0])\n",
    "print(urls[0])"
   ]
  },
  {
   "cell_type": "code",
   "execution_count": 4,
   "metadata": {},
   "outputs": [],
   "source": [
    "from tensorflow.keras.preprocessing.text import Tokenizer\n",
    "from tensorflow.keras.preprocessing.sequence import pad_sequences"
   ]
  },
  {
   "cell_type": "code",
   "execution_count": 5,
   "metadata": {},
   "outputs": [],
   "source": [
    "tokenizer = Tokenizer(oov_token=\"<OOV>\")\n",
    "tokenizer.fit_on_texts(sentences)"
   ]
  },
  {
   "cell_type": "code",
   "execution_count": 10,
   "metadata": {},
   "outputs": [
    {
     "name": "stdout",
     "output_type": "stream",
     "text": [
      "29657\n"
     ]
    }
   ],
   "source": [
    "word_index = tokenizer.word_index\n",
    "print(len(word_index))\n",
    "#print(word_index)"
   ]
  },
  {
   "cell_type": "code",
   "execution_count": 7,
   "metadata": {},
   "outputs": [
    {
     "data": {
      "text/plain": [
       "[[308, 15115, 679, 3337, 2298, 48, 382, 2576, 15116, 6, 2577, 8434],\n",
       " [4, 8435, 3338, 2746, 22, 2, 166, 8436, 416, 3112, 6, 258, 9, 1002],\n",
       " [145, 838, 2, 907, 1749, 2093, 582, 4719, 221, 143, 39, 46, 2, 10736],\n",
       " [1485, 36, 224, 400, 2, 1832, 29, 319, 22, 10, 2924, 1393, 6969, 968],\n",
       " [767, 719, 4720, 908, 10737, 623, 594, 5, 4, 95, 1309, 92]]"
      ]
     },
     "execution_count": 7,
     "metadata": {},
     "output_type": "execute_result"
    }
   ],
   "source": [
    "sequences = tokenizer.texts_to_sequences(sentences)\n",
    "sequences[:5]"
   ]
  },
  {
   "cell_type": "code",
   "execution_count": 8,
   "metadata": {},
   "outputs": [
    {
     "name": "stdout",
     "output_type": "stream",
     "text": [
      "[  308 15115   679  3337  2298    48   382  2576 15116     6  2577  8434\n",
      "     0     0     0     0     0     0     0     0     0     0     0     0\n",
      "     0     0     0     0     0     0     0     0     0     0     0     0\n",
      "     0     0     0     0]\n",
      "(26709, 40)\n"
     ]
    }
   ],
   "source": [
    "padded = pad_sequences(sequences, padding='post')\n",
    "print(padded[0])\n",
    "print(padded.shape)"
   ]
  },
  {
   "cell_type": "code",
   "execution_count": 9,
   "metadata": {},
   "outputs": [
    {
     "data": {
      "text/plain": [
       "\"former versace store clerk sues over secret 'black code' for minority shoppers\""
      ]
     },
     "execution_count": 9,
     "metadata": {},
     "output_type": "execute_result"
    }
   ],
   "source": [
    "sentences[0]"
   ]
  },
  {
   "cell_type": "code",
   "execution_count": null,
   "metadata": {},
   "outputs": [],
   "source": []
  }
 ],
 "metadata": {
  "kernelspec": {
   "display_name": "Python 3",
   "language": "python",
   "name": "python3"
  },
  "language_info": {
   "codemirror_mode": {
    "name": "ipython",
    "version": 3
   },
   "file_extension": ".py",
   "mimetype": "text/x-python",
   "name": "python",
   "nbconvert_exporter": "python",
   "pygments_lexer": "ipython3",
   "version": "3.7.6"
  }
 },
 "nbformat": 4,
 "nbformat_minor": 4
}
