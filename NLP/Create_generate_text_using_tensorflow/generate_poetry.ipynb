{
  "nbformat": 4,
  "nbformat_minor": 0,
  "metadata": {
    "colab": {
      "name": "generate_poetry.ipynb",
      "provenance": [],
      "collapsed_sections": []
    },
    "kernelspec": {
      "name": "python3",
      "display_name": "Python 3"
    },
    "language_info": {
      "name": "python"
    },
    "accelerator": "GPU"
  },
  "cells": [
    {
      "cell_type": "code",
      "metadata": {
        "id": "bp8BAGGvstRG"
      },
      "source": [
        "from tensorflow.keras.preprocessing.sequence import pad_sequences\n",
        "from tensorflow.keras.layers import Embedding, LSTM, Dense, Dropout, Bidirectional\n",
        "from tensorflow.keras.preprocessing.text import Tokenizer\n",
        "from tensorflow.keras.models import Sequential\n",
        "from tensorflow.keras.optimizers import Adam\n",
        "from tensorflow.keras import regularizers\n",
        "import tensorflow.keras.utils as ku \n",
        "import numpy as np "
      ],
      "execution_count": 1,
      "outputs": []
    },
    {
      "cell_type": "code",
      "metadata": {
        "colab": {
          "base_uri": "https://localhost:8080/"
        },
        "id": "kBpSJQdsuCno",
        "outputId": "88acea04-a00d-4ca3-ada1-0da621d524e3"
      },
      "source": [
        "# sonnets.txt\n",
        "!gdown --id 108jAePKK4R3BVYBbYJZ32JWUwxeMg20K"
      ],
      "execution_count": 2,
      "outputs": [
        {
          "output_type": "stream",
          "name": "stdout",
          "text": [
            "Downloading...\n",
            "From: https://drive.google.com/uc?id=108jAePKK4R3BVYBbYJZ32JWUwxeMg20K\n",
            "To: /content/sonnets.txt\n",
            "\r  0% 0.00/93.6k [00:00<?, ?B/s]\r100% 93.6k/93.6k [00:00<00:00, 35.5MB/s]\n"
          ]
        }
      ]
    },
    {
      "cell_type": "code",
      "metadata": {
        "id": "4JEP-QOAuIoa"
      },
      "source": [
        "data = open('./sonnets.txt').read()"
      ],
      "execution_count": 3,
      "outputs": []
    },
    {
      "cell_type": "code",
      "metadata": {
        "id": "SRDDGGeNuP3p"
      },
      "source": [
        "corpus = data.lower().split(\"\\n\")"
      ],
      "execution_count": 4,
      "outputs": []
    },
    {
      "cell_type": "code",
      "metadata": {
        "id": "jmz5JAcouFBt"
      },
      "source": [
        "tokenizer = Tokenizer()\n",
        "tokenizer.fit_on_texts(corpus)\n",
        "total_words = len(tokenizer.word_index) + 1"
      ],
      "execution_count": 5,
      "outputs": []
    },
    {
      "cell_type": "code",
      "metadata": {
        "id": "Ek9yOh4suE-M"
      },
      "source": [
        "# create input sequences using list of tokens\n",
        "input_sequences = []\n",
        "for line in corpus:\n",
        "\ttoken_list = tokenizer.texts_to_sequences([line])[0]\n",
        "\tfor i in range(1, len(token_list)):\n",
        "\t\tn_gram_sequence = token_list[:i+1]\n",
        "\t\tinput_sequences.append(n_gram_sequence)"
      ],
      "execution_count": 6,
      "outputs": []
    },
    {
      "cell_type": "code",
      "metadata": {
        "id": "msKCkrYZuE0h"
      },
      "source": [
        "# pad sequences \n",
        "max_sequence_len = max([len(x) for x in input_sequences])\n",
        "input_sequences = np.array(pad_sequences(input_sequences, maxlen=max_sequence_len, padding='pre'))\n",
        "\n",
        "# create predictors and label\n",
        "predictors, label = input_sequences[:,:-1],input_sequences[:,-1]\n",
        "\n",
        "label = ku.to_categorical(label, num_classes=total_words)"
      ],
      "execution_count": 7,
      "outputs": []
    },
    {
      "cell_type": "code",
      "metadata": {
        "colab": {
          "base_uri": "https://localhost:8080/"
        },
        "id": "TGh-63R2uXWb",
        "outputId": "d5112e50-98b8-43dd-ecf6-a4f056cf469f"
      },
      "source": [
        "### START CODE HERE\n",
        "model = Sequential()\n",
        "model.add(Embedding(total_words, 125, input_length=max_sequence_len-1))\n",
        "model.add(Bidirectional(LSTM(175, return_sequences = True)))\n",
        "model.add(Dropout(0.25))\n",
        "model.add(LSTM(100))\n",
        "model.add(Dense(total_words/2, activation='relu', kernel_regularizer=regularizers.l2(0.01)))\n",
        "model.add(Dense(total_words, activation='softmax'))\n",
        "# Pick an optimizer\n",
        "model.compile(loss='categorical_crossentropy', optimizer='adam', metrics=['accuracy'])\n",
        "\n",
        "print(model.summary())"
      ],
      "execution_count": 8,
      "outputs": [
        {
          "output_type": "stream",
          "name": "stdout",
          "text": [
            "Model: \"sequential\"\n",
            "_________________________________________________________________\n",
            "Layer (type)                 Output Shape              Param #   \n",
            "=================================================================\n",
            "embedding (Embedding)        (None, 10, 125)           401375    \n",
            "_________________________________________________________________\n",
            "bidirectional (Bidirectional (None, 10, 350)           421400    \n",
            "_________________________________________________________________\n",
            "dropout (Dropout)            (None, 10, 350)           0         \n",
            "_________________________________________________________________\n",
            "lstm_1 (LSTM)                (None, 100)               180400    \n",
            "_________________________________________________________________\n",
            "dense (Dense)                (None, 1605)              162105    \n",
            "_________________________________________________________________\n",
            "dense_1 (Dense)              (None, 3211)              5156866   \n",
            "=================================================================\n",
            "Total params: 6,322,146\n",
            "Trainable params: 6,322,146\n",
            "Non-trainable params: 0\n",
            "_________________________________________________________________\n",
            "None\n"
          ]
        }
      ]
    },
    {
      "cell_type": "code",
      "metadata": {
        "colab": {
          "base_uri": "https://localhost:8080/"
        },
        "id": "tO3RxsG6uqu1",
        "outputId": "b8c5c397-cf70-47f3-aff2-a8b45c5ceb8b"
      },
      "source": [
        "history = model.fit(predictors, label, epochs=110, verbose=2)"
      ],
      "execution_count": 10,
      "outputs": [
        {
          "output_type": "stream",
          "name": "stdout",
          "text": [
            "Epoch 1/110\n",
            "484/484 - 18s - loss: 6.8995 - accuracy: 0.0223\n",
            "Epoch 2/110\n",
            "484/484 - 8s - loss: 6.5052 - accuracy: 0.0230\n",
            "Epoch 3/110\n",
            "484/484 - 8s - loss: 6.4063 - accuracy: 0.0256\n",
            "Epoch 4/110\n",
            "484/484 - 8s - loss: 6.2850 - accuracy: 0.0293\n",
            "Epoch 5/110\n",
            "484/484 - 8s - loss: 6.1977 - accuracy: 0.0300\n",
            "Epoch 6/110\n",
            "484/484 - 8s - loss: 6.1253 - accuracy: 0.0368\n",
            "Epoch 7/110\n",
            "484/484 - 8s - loss: 6.0567 - accuracy: 0.0411\n",
            "Epoch 8/110\n",
            "484/484 - 8s - loss: 5.9920 - accuracy: 0.0437\n",
            "Epoch 9/110\n",
            "484/484 - 8s - loss: 5.9237 - accuracy: 0.0483\n",
            "Epoch 10/110\n",
            "484/484 - 8s - loss: 5.8416 - accuracy: 0.0526\n",
            "Epoch 11/110\n",
            "484/484 - 8s - loss: 5.7539 - accuracy: 0.0567\n",
            "Epoch 12/110\n",
            "484/484 - 8s - loss: 5.6547 - accuracy: 0.0621\n",
            "Epoch 13/110\n",
            "484/484 - 8s - loss: 5.5582 - accuracy: 0.0653\n",
            "Epoch 14/110\n",
            "484/484 - 8s - loss: 5.4555 - accuracy: 0.0730\n",
            "Epoch 15/110\n",
            "484/484 - 8s - loss: 5.3593 - accuracy: 0.0758\n",
            "Epoch 16/110\n",
            "484/484 - 8s - loss: 5.2593 - accuracy: 0.0818\n",
            "Epoch 17/110\n",
            "484/484 - 8s - loss: 5.1602 - accuracy: 0.0889\n",
            "Epoch 18/110\n",
            "484/484 - 8s - loss: 5.0590 - accuracy: 0.0943\n",
            "Epoch 19/110\n",
            "484/484 - 8s - loss: 4.9575 - accuracy: 0.1032\n",
            "Epoch 20/110\n",
            "484/484 - 8s - loss: 4.8630 - accuracy: 0.1092\n",
            "Epoch 21/110\n",
            "484/484 - 8s - loss: 4.7630 - accuracy: 0.1148\n",
            "Epoch 22/110\n",
            "484/484 - 8s - loss: 4.6692 - accuracy: 0.1223\n",
            "Epoch 23/110\n",
            "484/484 - 8s - loss: 4.5748 - accuracy: 0.1332\n",
            "Epoch 24/110\n",
            "484/484 - 8s - loss: 4.4779 - accuracy: 0.1399\n",
            "Epoch 25/110\n",
            "484/484 - 8s - loss: 4.3851 - accuracy: 0.1526\n",
            "Epoch 26/110\n",
            "484/484 - 8s - loss: 4.2951 - accuracy: 0.1614\n",
            "Epoch 27/110\n",
            "484/484 - 8s - loss: 4.1923 - accuracy: 0.1740\n",
            "Epoch 28/110\n",
            "484/484 - 8s - loss: 4.0938 - accuracy: 0.1875\n",
            "Epoch 29/110\n",
            "484/484 - 8s - loss: 4.0074 - accuracy: 0.1990\n",
            "Epoch 30/110\n",
            "484/484 - 8s - loss: 3.9191 - accuracy: 0.2132\n",
            "Epoch 31/110\n",
            "484/484 - 8s - loss: 3.8305 - accuracy: 0.2304\n",
            "Epoch 32/110\n",
            "484/484 - 8s - loss: 3.7467 - accuracy: 0.2435\n",
            "Epoch 33/110\n",
            "484/484 - 8s - loss: 3.6619 - accuracy: 0.2618\n",
            "Epoch 34/110\n",
            "484/484 - 8s - loss: 3.5701 - accuracy: 0.2776\n",
            "Epoch 35/110\n",
            "484/484 - 8s - loss: 3.4970 - accuracy: 0.2957\n",
            "Epoch 36/110\n",
            "484/484 - 8s - loss: 3.4217 - accuracy: 0.3089\n",
            "Epoch 37/110\n",
            "484/484 - 8s - loss: 3.3399 - accuracy: 0.3273\n",
            "Epoch 38/110\n",
            "484/484 - 8s - loss: 3.2651 - accuracy: 0.3449\n",
            "Epoch 39/110\n",
            "484/484 - 8s - loss: 3.1953 - accuracy: 0.3605\n",
            "Epoch 40/110\n",
            "484/484 - 8s - loss: 3.1191 - accuracy: 0.3745\n",
            "Epoch 41/110\n",
            "484/484 - 8s - loss: 3.0693 - accuracy: 0.3868\n",
            "Epoch 42/110\n",
            "484/484 - 8s - loss: 2.9851 - accuracy: 0.4043\n",
            "Epoch 43/110\n",
            "484/484 - 8s - loss: 2.9340 - accuracy: 0.4175\n",
            "Epoch 44/110\n",
            "484/484 - 8s - loss: 2.8629 - accuracy: 0.4340\n",
            "Epoch 45/110\n",
            "484/484 - 8s - loss: 2.7983 - accuracy: 0.4490\n",
            "Epoch 46/110\n",
            "484/484 - 8s - loss: 2.7410 - accuracy: 0.4577\n",
            "Epoch 47/110\n",
            "484/484 - 8s - loss: 2.6846 - accuracy: 0.4706\n",
            "Epoch 48/110\n",
            "484/484 - 8s - loss: 2.6326 - accuracy: 0.4871\n",
            "Epoch 49/110\n",
            "484/484 - 8s - loss: 2.5646 - accuracy: 0.5005\n",
            "Epoch 50/110\n",
            "484/484 - 8s - loss: 2.5369 - accuracy: 0.5046\n",
            "Epoch 51/110\n",
            "484/484 - 8s - loss: 2.4741 - accuracy: 0.5204\n",
            "Epoch 52/110\n",
            "484/484 - 8s - loss: 2.4455 - accuracy: 0.5255\n",
            "Epoch 53/110\n",
            "484/484 - 8s - loss: 2.3796 - accuracy: 0.5425\n",
            "Epoch 54/110\n",
            "484/484 - 8s - loss: 2.3400 - accuracy: 0.5459\n",
            "Epoch 55/110\n",
            "484/484 - 8s - loss: 2.2911 - accuracy: 0.5642\n",
            "Epoch 56/110\n",
            "484/484 - 8s - loss: 2.2440 - accuracy: 0.5719\n",
            "Epoch 57/110\n",
            "484/484 - 8s - loss: 2.1983 - accuracy: 0.5846\n",
            "Epoch 58/110\n",
            "484/484 - 8s - loss: 2.1674 - accuracy: 0.5923\n",
            "Epoch 59/110\n",
            "484/484 - 8s - loss: 2.1215 - accuracy: 0.6010\n",
            "Epoch 60/110\n",
            "484/484 - 8s - loss: 2.0883 - accuracy: 0.6101\n",
            "Epoch 61/110\n",
            "484/484 - 8s - loss: 2.0462 - accuracy: 0.6181\n",
            "Epoch 62/110\n",
            "484/484 - 8s - loss: 2.0216 - accuracy: 0.6208\n",
            "Epoch 63/110\n",
            "484/484 - 8s - loss: 1.9858 - accuracy: 0.6317\n",
            "Epoch 64/110\n",
            "484/484 - 8s - loss: 1.9550 - accuracy: 0.6366\n",
            "Epoch 65/110\n",
            "484/484 - 8s - loss: 1.9142 - accuracy: 0.6427\n",
            "Epoch 66/110\n",
            "484/484 - 8s - loss: 1.8836 - accuracy: 0.6585\n",
            "Epoch 67/110\n",
            "484/484 - 8s - loss: 1.8694 - accuracy: 0.6575\n",
            "Epoch 68/110\n",
            "484/484 - 8s - loss: 1.8341 - accuracy: 0.6666\n",
            "Epoch 69/110\n",
            "484/484 - 8s - loss: 1.7923 - accuracy: 0.6739\n",
            "Epoch 70/110\n",
            "484/484 - 8s - loss: 1.7842 - accuracy: 0.6743\n",
            "Epoch 71/110\n",
            "484/484 - 8s - loss: 1.7564 - accuracy: 0.6821\n",
            "Epoch 72/110\n",
            "484/484 - 8s - loss: 1.7388 - accuracy: 0.6848\n",
            "Epoch 73/110\n",
            "484/484 - 8s - loss: 1.6942 - accuracy: 0.6943\n",
            "Epoch 74/110\n",
            "484/484 - 8s - loss: 1.6557 - accuracy: 0.7067\n",
            "Epoch 75/110\n",
            "484/484 - 8s - loss: 1.6387 - accuracy: 0.7068\n",
            "Epoch 76/110\n",
            "484/484 - 8s - loss: 1.6325 - accuracy: 0.7066\n",
            "Epoch 77/110\n",
            "484/484 - 8s - loss: 1.6126 - accuracy: 0.7139\n",
            "Epoch 78/110\n",
            "484/484 - 8s - loss: 1.5876 - accuracy: 0.7161\n",
            "Epoch 79/110\n",
            "484/484 - 8s - loss: 1.5680 - accuracy: 0.7205\n",
            "Epoch 80/110\n",
            "484/484 - 8s - loss: 1.5372 - accuracy: 0.7310\n",
            "Epoch 81/110\n",
            "484/484 - 8s - loss: 1.5248 - accuracy: 0.7284\n",
            "Epoch 82/110\n",
            "484/484 - 8s - loss: 1.5173 - accuracy: 0.7281\n",
            "Epoch 83/110\n",
            "484/484 - 8s - loss: 1.4958 - accuracy: 0.7378\n",
            "Epoch 84/110\n",
            "484/484 - 8s - loss: 1.4784 - accuracy: 0.7379\n",
            "Epoch 85/110\n",
            "484/484 - 8s - loss: 1.4530 - accuracy: 0.7473\n",
            "Epoch 86/110\n",
            "484/484 - 8s - loss: 1.4315 - accuracy: 0.7505\n",
            "Epoch 87/110\n",
            "484/484 - 8s - loss: 1.4175 - accuracy: 0.7526\n",
            "Epoch 88/110\n",
            "484/484 - 8s - loss: 1.4154 - accuracy: 0.7487\n",
            "Epoch 89/110\n",
            "484/484 - 8s - loss: 1.3865 - accuracy: 0.7573\n",
            "Epoch 90/110\n",
            "484/484 - 8s - loss: 1.3840 - accuracy: 0.7575\n",
            "Epoch 91/110\n",
            "484/484 - 8s - loss: 1.3680 - accuracy: 0.7580\n",
            "Epoch 92/110\n",
            "484/484 - 8s - loss: 1.3637 - accuracy: 0.7592\n",
            "Epoch 93/110\n",
            "484/484 - 8s - loss: 1.3341 - accuracy: 0.7687\n",
            "Epoch 94/110\n",
            "484/484 - 8s - loss: 1.3231 - accuracy: 0.7682\n",
            "Epoch 95/110\n",
            "484/484 - 8s - loss: 1.3199 - accuracy: 0.7654\n",
            "Epoch 96/110\n",
            "484/484 - 8s - loss: 1.3075 - accuracy: 0.7723\n",
            "Epoch 97/110\n",
            "484/484 - 8s - loss: 1.2804 - accuracy: 0.7772\n",
            "Epoch 98/110\n",
            "484/484 - 8s - loss: 1.2707 - accuracy: 0.7754\n",
            "Epoch 99/110\n",
            "484/484 - 8s - loss: 1.2525 - accuracy: 0.7822\n",
            "Epoch 100/110\n",
            "484/484 - 8s - loss: 1.2472 - accuracy: 0.7830\n",
            "Epoch 101/110\n",
            "484/484 - 8s - loss: 1.2496 - accuracy: 0.7804\n",
            "Epoch 102/110\n",
            "484/484 - 8s - loss: 1.2479 - accuracy: 0.7786\n",
            "Epoch 103/110\n",
            "484/484 - 8s - loss: 1.2295 - accuracy: 0.7858\n",
            "Epoch 104/110\n",
            "484/484 - 8s - loss: 1.2113 - accuracy: 0.7872\n",
            "Epoch 105/110\n",
            "484/484 - 8s - loss: 1.1986 - accuracy: 0.7880\n",
            "Epoch 106/110\n",
            "484/484 - 8s - loss: 1.1923 - accuracy: 0.7906\n",
            "Epoch 107/110\n",
            "484/484 - 8s - loss: 1.1875 - accuracy: 0.7915\n",
            "Epoch 108/110\n",
            "484/484 - 8s - loss: 1.1766 - accuracy: 0.7895\n",
            "Epoch 109/110\n",
            "484/484 - 8s - loss: 1.1699 - accuracy: 0.7936\n",
            "Epoch 110/110\n",
            "484/484 - 8s - loss: 1.1594 - accuracy: 0.7943\n"
          ]
        }
      ]
    },
    {
      "cell_type": "code",
      "metadata": {
        "colab": {
          "base_uri": "https://localhost:8080/",
          "height": 545
        },
        "id": "WUiH-_x1uySn",
        "outputId": "efaf4b16-98eb-463b-8ccf-8e9a8866b61c"
      },
      "source": [
        "import matplotlib.pyplot as plt\n",
        "acc = history.history['accuracy']\n",
        "loss = history.history['loss']\n",
        "\n",
        "epochs = range(len(acc))\n",
        "\n",
        "plt.plot(epochs, acc, 'b', label='Training accuracy')\n",
        "plt.title('Training accuracy')\n",
        "\n",
        "plt.figure()\n",
        "\n",
        "plt.plot(epochs, loss, 'b', label='Training Loss')\n",
        "plt.title('Training loss')\n",
        "plt.legend()\n",
        "\n",
        "plt.show()"
      ],
      "execution_count": 11,
      "outputs": [
        {
          "output_type": "display_data",
          "data": {
            "image/png": "[encoded data removed]",
            "text/plain": [
              "<Figure size 432x288 with 1 Axes>"
            ]
          },
          "metadata": {
            "needs_background": "light"
          }
        },
        {
          "output_type": "display_data",
          "data": {
            "image/png": "[encoded data removed]",
            "text/plain": [
              "<Figure size 432x288 with 1 Axes>"
            ]
          },
          "metadata": {
            "needs_background": "light"
          }
        }
      ]
    },
    {
      "cell_type": "code",
      "metadata": {
        "colab": {
          "base_uri": "https://localhost:8080/"
        },
        "id": "lmC1OaE_u28q",
        "outputId": "4697d132-bc87-44b8-c65b-6ad4acf09596"
      },
      "source": [
        "seed_text = \"The god is watching us as we are doing the prayer\"\n",
        "next_words = 110\n",
        "  \n",
        "for _ in range(next_words):\n",
        "  token_list = tokenizer.texts_to_sequences([seed_text])[0]\n",
        "  token_list = pad_sequences([token_list], maxlen=max_sequence_len-1, padding='pre')\n",
        "  predicted_probs = model.predict(token_list, verbose=0)\n",
        "  predicted = np.argmax(predicted_probs,axis=1)\n",
        "  output_word = \"\"\n",
        "  for word, index in tokenizer.word_index.items():\n",
        "    if index == predicted:\n",
        "      output_word = word\n",
        "      break\n",
        "  seed_text += \" \" + output_word\n",
        "print(seed_text)"
      ],
      "execution_count": 12,
      "outputs": [
        {
          "output_type": "stream",
          "name": "stdout",
          "text": [
            "The god is watching us as we are doing the prayer spring or seasons' borrow'd state away increase rolling forsaken forsaken rolling lend thee new dyed dyed out that many fair bright faith so seen his heart smells spent rehearse fled spent level to shown pleasure thee grace their blot thy it must tend tend tend thee back so true due to thee lies be seen make thine gone such thy state to 'will ' move lies give a pride sheds survey ' grew men bide invention of men's 'no might to crave taken appear grow of such good age weeds prove weeds bright pride quite blot to set a sky sounds worn appear hate forth to eye of gone ill\n"
          ]
        }
      ]
    },
    {
      "cell_type": "code",
      "metadata": {
        "id": "7hwRs8FIyYEW"
      },
      "source": [
        ""
      ],
      "execution_count": null,
      "outputs": []
    }
  ]
}