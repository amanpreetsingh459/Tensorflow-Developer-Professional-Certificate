{
  "nbformat": 4,
  "nbformat_minor": 0,
  "metadata": {
    "colab": {
      "name": "One_Layer_GRU.ipynb",
      "provenance": [],
      "collapsed_sections": []
    },
    "kernelspec": {
      "name": "python3",
      "display_name": "Python 3"
    },
    "language_info": {
      "name": "python"
    },
    "accelerator": "GPU"
  },
  "cells": [
    {
      "cell_type": "code",
      "metadata": {
        "colab": {
          "base_uri": "https://localhost:8080/"
        },
        "id": "MOulzXVo1fFa",
        "outputId": "d38bc2cd-5533-4686-fc80-3e753568d9e1"
      },
      "source": [
        "import tensorflow as tf\n",
        "print(tf.__version__)"
      ],
      "execution_count": 1,
      "outputs": [
        {
          "output_type": "stream",
          "text": [
            "2.5.0\n"
          ],
          "name": "stdout"
        }
      ]
    },
    {
      "cell_type": "code",
      "metadata": {
        "id": "QapmN9581mPS"
      },
      "source": [
        "import tensorflow_datasets as tfds\n",
        "imdb, info = tfds.load(\"imdb_reviews\", with_info=True, as_supervised=True)"
      ],
      "execution_count": null,
      "outputs": []
    },
    {
      "cell_type": "code",
      "metadata": {
        "id": "qBXRyqc71mMS"
      },
      "source": [
        "import numpy as np\n",
        "\n",
        "train_data, test_data = imdb['train'], imdb['test']\n",
        "\n",
        "training_sentences = []\n",
        "training_labels = []\n",
        "\n",
        "testing_sentences = []\n",
        "testing_labels = []\n",
        "\n",
        "# str(s.tonumpy()) is needed in Python3 instead of just s.numpy()\n",
        "for s,l in train_data:\n",
        "  training_sentences.append(str(s.numpy()))\n",
        "  training_labels.append(l.numpy())\n",
        "  \n",
        "for s,l in test_data:\n",
        "  testing_sentences.append(str(s.numpy()))\n",
        "  testing_labels.append(l.numpy())\n",
        "  \n",
        "training_labels_final = np.array(training_labels)\n",
        "testing_labels_final = np.array(testing_labels)"
      ],
      "execution_count": 3,
      "outputs": []
    },
    {
      "cell_type": "code",
      "metadata": {
        "id": "TFpNzPcV1mIz"
      },
      "source": [
        "vocab_size = 10000\n",
        "embedding_dim = 16\n",
        "max_length = 120\n",
        "trunc_type='post'\n",
        "oov_tok = \"<OOV>\"\n",
        "\n",
        "\n",
        "from tensorflow.keras.preprocessing.text import Tokenizer\n",
        "from tensorflow.keras.preprocessing.sequence import pad_sequences\n",
        "\n",
        "tokenizer = Tokenizer(num_words = vocab_size, oov_token=oov_tok)\n",
        "tokenizer.fit_on_texts(training_sentences)\n",
        "word_index = tokenizer.word_index\n",
        "sequences = tokenizer.texts_to_sequences(training_sentences)\n",
        "padded = pad_sequences(sequences,maxlen=max_length, truncating=trunc_type)\n",
        "\n",
        "testing_sequences = tokenizer.texts_to_sequences(testing_sentences)\n",
        "testing_padded = pad_sequences(testing_sequences,maxlen=max_length)\n"
      ],
      "execution_count": 4,
      "outputs": []
    },
    {
      "cell_type": "code",
      "metadata": {
        "colab": {
          "base_uri": "https://localhost:8080/"
        },
        "id": "3jRmkjv21mE1",
        "outputId": "67b9bd1a-2b20-4ec7-b601-773875ca78d0"
      },
      "source": [
        "reverse_word_index = dict([(value, key) for (key, value) in word_index.items()])\n",
        "\n",
        "def decode_review(text):\n",
        "    return ' '.join([reverse_word_index.get(i, '?') for i in text])\n",
        "\n",
        "print(decode_review(padded[1]))\n",
        "print(training_sentences[1])"
      ],
      "execution_count": 5,
      "outputs": [
        {
          "output_type": "stream",
          "text": [
            "? ? ? ? ? ? ? b'i have been known to fall asleep during films but this is usually due to a combination of things including really tired being warm and comfortable on the <OOV> and having just eaten a lot however on this occasion i fell asleep because the film was rubbish the plot development was constant constantly slow and boring things seemed to happen but with no explanation of what was causing them or why i admit i may have missed part of the film but i watched the majority of it and everything just seemed to happen of its own <OOV> without any real concern for anything else i cant recommend this film at all '\n",
            "b'I have been known to fall asleep during films, but this is usually due to a combination of things including, really tired, being warm and comfortable on the sette and having just eaten a lot. However on this occasion I fell asleep because the film was rubbish. The plot development was constant. Constantly slow and boring. Things seemed to happen, but with no explanation of what was causing them or why. I admit, I may have missed part of the film, but i watched the majority of it and everything just seemed to happen of its own accord without any real concern for anything else. I cant recommend this film at all.'\n"
          ],
          "name": "stdout"
        }
      ]
    },
    {
      "cell_type": "markdown",
      "metadata": {
        "id": "l_uXP7md13n-"
      },
      "source": [
        "## GRU Implementation"
      ]
    },
    {
      "cell_type": "code",
      "metadata": {
        "colab": {
          "base_uri": "https://localhost:8080/"
        },
        "id": "JHNXSYMt1l_B",
        "outputId": "4e2c118e-c064-4656-98c9-6f533ea73670"
      },
      "source": [
        "model = tf.keras.Sequential([\n",
        "    tf.keras.layers.Embedding(vocab_size, embedding_dim, input_length=max_length),\n",
        "    tf.keras.layers.Bidirectional(tf.keras.layers.GRU(32)),\n",
        "    tf.keras.layers.Dense(6, activation='relu'),\n",
        "    tf.keras.layers.Dense(1, activation='sigmoid')\n",
        "])\n",
        "model.compile(loss='binary_crossentropy',optimizer='adam',metrics=['accuracy'])\n",
        "model.summary()"
      ],
      "execution_count": 6,
      "outputs": [
        {
          "output_type": "stream",
          "text": [
            "Model: \"sequential\"\n",
            "_________________________________________________________________\n",
            "Layer (type)                 Output Shape              Param #   \n",
            "=================================================================\n",
            "embedding (Embedding)        (None, 120, 16)           160000    \n",
            "_________________________________________________________________\n",
            "bidirectional (Bidirectional (None, 64)                9600      \n",
            "_________________________________________________________________\n",
            "dense (Dense)                (None, 6)                 390       \n",
            "_________________________________________________________________\n",
            "dense_1 (Dense)              (None, 1)                 7         \n",
            "=================================================================\n",
            "Total params: 169,997\n",
            "Trainable params: 169,997\n",
            "Non-trainable params: 0\n",
            "_________________________________________________________________\n"
          ],
          "name": "stdout"
        }
      ]
    },
    {
      "cell_type": "code",
      "metadata": {
        "colab": {
          "base_uri": "https://localhost:8080/"
        },
        "id": "aDxdrRq91l5i",
        "outputId": "77f12ad3-b9d5-41f4-d713-de084bb3aa7c"
      },
      "source": [
        "num_epochs = 50\n",
        "history = model.fit(padded, training_labels_final, epochs=num_epochs, validation_data=(testing_padded, testing_labels_final))"
      ],
      "execution_count": 7,
      "outputs": [
        {
          "output_type": "stream",
          "text": [
            "Epoch 1/50\n",
            "782/782 [==============================] - 56s 61ms/step - loss: 0.5483 - accuracy: 0.6809 - val_loss: 0.3817 - val_accuracy: 0.8365\n",
            "Epoch 2/50\n",
            "782/782 [==============================] - 47s 60ms/step - loss: 0.3116 - accuracy: 0.8718 - val_loss: 0.3585 - val_accuracy: 0.8422\n",
            "Epoch 3/50\n",
            "782/782 [==============================] - 47s 60ms/step - loss: 0.2365 - accuracy: 0.9093 - val_loss: 0.3780 - val_accuracy: 0.8436\n",
            "Epoch 4/50\n",
            "782/782 [==============================] - 46s 59ms/step - loss: 0.1831 - accuracy: 0.9331 - val_loss: 0.4679 - val_accuracy: 0.8244\n",
            "Epoch 5/50\n",
            "782/782 [==============================] - 46s 59ms/step - loss: 0.1377 - accuracy: 0.9513 - val_loss: 0.5069 - val_accuracy: 0.8199\n",
            "Epoch 6/50\n",
            "782/782 [==============================] - 47s 60ms/step - loss: 0.0976 - accuracy: 0.9660 - val_loss: 0.5331 - val_accuracy: 0.8253\n",
            "Epoch 7/50\n",
            "782/782 [==============================] - 47s 60ms/step - loss: 0.0658 - accuracy: 0.9779 - val_loss: 0.6555 - val_accuracy: 0.8232\n",
            "Epoch 8/50\n",
            "782/782 [==============================] - 46s 59ms/step - loss: 0.0433 - accuracy: 0.9861 - val_loss: 0.7291 - val_accuracy: 0.8176\n",
            "Epoch 9/50\n",
            "782/782 [==============================] - 46s 59ms/step - loss: 0.0331 - accuracy: 0.9898 - val_loss: 0.7931 - val_accuracy: 0.8144\n",
            "Epoch 10/50\n",
            "782/782 [==============================] - 46s 59ms/step - loss: 0.0238 - accuracy: 0.9926 - val_loss: 0.9086 - val_accuracy: 0.8105\n",
            "Epoch 11/50\n",
            "782/782 [==============================] - 46s 59ms/step - loss: 0.0248 - accuracy: 0.9917 - val_loss: 0.9089 - val_accuracy: 0.8142\n",
            "Epoch 12/50\n",
            "782/782 [==============================] - 46s 59ms/step - loss: 0.0170 - accuracy: 0.9946 - val_loss: 1.0361 - val_accuracy: 0.8109\n",
            "Epoch 13/50\n",
            "782/782 [==============================] - 47s 60ms/step - loss: 0.0167 - accuracy: 0.9948 - val_loss: 0.9831 - val_accuracy: 0.8105\n",
            "Epoch 14/50\n",
            "782/782 [==============================] - 46s 59ms/step - loss: 0.0111 - accuracy: 0.9963 - val_loss: 1.1226 - val_accuracy: 0.8141\n",
            "Epoch 15/50\n",
            "782/782 [==============================] - 46s 59ms/step - loss: 0.0087 - accuracy: 0.9972 - val_loss: 1.1672 - val_accuracy: 0.8094\n",
            "Epoch 16/50\n",
            "782/782 [==============================] - 46s 59ms/step - loss: 0.0125 - accuracy: 0.9957 - val_loss: 1.2125 - val_accuracy: 0.8154\n",
            "Epoch 17/50\n",
            "782/782 [==============================] - 46s 59ms/step - loss: 0.0105 - accuracy: 0.9960 - val_loss: 1.2284 - val_accuracy: 0.8058\n",
            "Epoch 18/50\n",
            "782/782 [==============================] - 46s 59ms/step - loss: 0.0067 - accuracy: 0.9981 - val_loss: 1.2118 - val_accuracy: 0.8103\n",
            "Epoch 19/50\n",
            "782/782 [==============================] - 46s 59ms/step - loss: 0.0013 - accuracy: 0.9998 - val_loss: 1.4320 - val_accuracy: 0.8113\n",
            "Epoch 20/50\n",
            "782/782 [==============================] - 46s 59ms/step - loss: 0.0080 - accuracy: 0.9971 - val_loss: 1.2267 - val_accuracy: 0.8081\n",
            "Epoch 21/50\n",
            "782/782 [==============================] - 47s 60ms/step - loss: 0.0075 - accuracy: 0.9974 - val_loss: 1.3065 - val_accuracy: 0.8059\n",
            "Epoch 22/50\n",
            "782/782 [==============================] - 47s 60ms/step - loss: 0.0073 - accuracy: 0.9974 - val_loss: 1.3000 - val_accuracy: 0.8074\n",
            "Epoch 23/50\n",
            "782/782 [==============================] - 47s 60ms/step - loss: 0.0045 - accuracy: 0.9982 - val_loss: 1.3526 - val_accuracy: 0.8098\n",
            "Epoch 24/50\n",
            "782/782 [==============================] - 46s 59ms/step - loss: 0.0039 - accuracy: 0.9988 - val_loss: 1.4623 - val_accuracy: 0.8095\n",
            "Epoch 25/50\n",
            "782/782 [==============================] - 46s 59ms/step - loss: 0.0048 - accuracy: 0.9983 - val_loss: 1.4663 - val_accuracy: 0.8080\n",
            "Epoch 26/50\n",
            "782/782 [==============================] - 47s 60ms/step - loss: 0.0063 - accuracy: 0.9978 - val_loss: 1.4207 - val_accuracy: 0.8030\n",
            "Epoch 27/50\n",
            "782/782 [==============================] - 46s 59ms/step - loss: 0.0042 - accuracy: 0.9986 - val_loss: 1.4974 - val_accuracy: 0.8084\n",
            "Epoch 28/50\n",
            "782/782 [==============================] - 46s 59ms/step - loss: 0.0049 - accuracy: 0.9982 - val_loss: 1.4780 - val_accuracy: 0.8080\n",
            "Epoch 29/50\n",
            "782/782 [==============================] - 46s 59ms/step - loss: 0.0016 - accuracy: 0.9995 - val_loss: 1.5012 - val_accuracy: 0.8078\n",
            "Epoch 30/50\n",
            "782/782 [==============================] - 47s 60ms/step - loss: 1.8584e-04 - accuracy: 1.0000 - val_loss: 1.6286 - val_accuracy: 0.8070\n",
            "Epoch 31/50\n",
            "782/782 [==============================] - 47s 60ms/step - loss: 0.0042 - accuracy: 0.9987 - val_loss: 1.6199 - val_accuracy: 0.8031\n",
            "Epoch 32/50\n",
            "782/782 [==============================] - 47s 60ms/step - loss: 0.0060 - accuracy: 0.9978 - val_loss: 1.4570 - val_accuracy: 0.8060\n",
            "Epoch 33/50\n",
            "782/782 [==============================] - 46s 59ms/step - loss: 0.0026 - accuracy: 0.9992 - val_loss: 1.4812 - val_accuracy: 0.8094\n",
            "Epoch 34/50\n",
            "782/782 [==============================] - 46s 59ms/step - loss: 4.1437e-04 - accuracy: 0.9999 - val_loss: 1.5168 - val_accuracy: 0.8076\n",
            "Epoch 35/50\n",
            "782/782 [==============================] - 46s 59ms/step - loss: 5.0537e-04 - accuracy: 0.9998 - val_loss: 1.6365 - val_accuracy: 0.8117\n",
            "Epoch 36/50\n",
            "782/782 [==============================] - 46s 59ms/step - loss: 2.5480e-05 - accuracy: 1.0000 - val_loss: 1.6744 - val_accuracy: 0.8112\n",
            "Epoch 37/50\n",
            "782/782 [==============================] - 46s 59ms/step - loss: 1.4623e-05 - accuracy: 1.0000 - val_loss: 1.7227 - val_accuracy: 0.8116\n",
            "Epoch 38/50\n",
            "782/782 [==============================] - 46s 59ms/step - loss: 1.0058e-05 - accuracy: 1.0000 - val_loss: 1.7716 - val_accuracy: 0.8116\n",
            "Epoch 39/50\n",
            "782/782 [==============================] - 46s 59ms/step - loss: 6.9884e-06 - accuracy: 1.0000 - val_loss: 1.8222 - val_accuracy: 0.8111\n",
            "Epoch 40/50\n",
            "782/782 [==============================] - 46s 59ms/step - loss: 4.8445e-06 - accuracy: 1.0000 - val_loss: 1.8743 - val_accuracy: 0.8109\n",
            "Epoch 41/50\n",
            "782/782 [==============================] - 46s 59ms/step - loss: 3.3368e-06 - accuracy: 1.0000 - val_loss: 1.9308 - val_accuracy: 0.8110\n",
            "Epoch 42/50\n",
            "782/782 [==============================] - 46s 59ms/step - loss: 2.2863e-06 - accuracy: 1.0000 - val_loss: 1.9877 - val_accuracy: 0.8109\n",
            "Epoch 43/50\n",
            "782/782 [==============================] - 47s 60ms/step - loss: 1.5571e-06 - accuracy: 1.0000 - val_loss: 2.0464 - val_accuracy: 0.8111\n",
            "Epoch 44/50\n",
            "782/782 [==============================] - 46s 59ms/step - loss: 1.0537e-06 - accuracy: 1.0000 - val_loss: 2.1072 - val_accuracy: 0.8110\n",
            "Epoch 45/50\n",
            "782/782 [==============================] - 46s 59ms/step - loss: 7.0827e-07 - accuracy: 1.0000 - val_loss: 2.1686 - val_accuracy: 0.8114\n",
            "Epoch 46/50\n",
            "782/782 [==============================] - 47s 60ms/step - loss: 4.7612e-07 - accuracy: 1.0000 - val_loss: 2.2294 - val_accuracy: 0.8108\n",
            "Epoch 47/50\n",
            "782/782 [==============================] - 47s 60ms/step - loss: 3.1893e-07 - accuracy: 1.0000 - val_loss: 2.2929 - val_accuracy: 0.8109\n",
            "Epoch 48/50\n",
            "782/782 [==============================] - 47s 60ms/step - loss: 2.1251e-07 - accuracy: 1.0000 - val_loss: 2.3585 - val_accuracy: 0.8109\n",
            "Epoch 49/50\n",
            "782/782 [==============================] - 47s 59ms/step - loss: 1.4242e-07 - accuracy: 1.0000 - val_loss: 2.4216 - val_accuracy: 0.8113\n",
            "Epoch 50/50\n",
            "782/782 [==============================] - 47s 60ms/step - loss: 9.5504e-08 - accuracy: 1.0000 - val_loss: 2.4861 - val_accuracy: 0.8116\n"
          ],
          "name": "stdout"
        }
      ]
    },
    {
      "cell_type": "code",
      "metadata": {
        "colab": {
          "base_uri": "https://localhost:8080/",
          "height": 541
        },
        "id": "lFE02SOM1lx-",
        "outputId": "0220dcc6-b27c-4b4b-b604-018cdcffebb7"
      },
      "source": [
        "import matplotlib.pyplot as plt\n",
        "\n",
        "def plot_graphs(history, string):\n",
        "  plt.plot(history.history[string])\n",
        "  plt.plot(history.history['val_'+string])\n",
        "  plt.xlabel(\"Epochs\")\n",
        "  plt.ylabel(string)\n",
        "  plt.legend([string, 'val_'+string])\n",
        "  plt.show()\n",
        "\n",
        "plot_graphs(history, 'accuracy')\n",
        "plot_graphs(history, 'loss')"
      ],
      "execution_count": 8,
      "outputs": [
        {
          "output_type": "display_data",
          "data": {
            "image/png": "[encoded data removed]",
            "text/plain": [
              "<Figure size 432x288 with 1 Axes>"
            ]
          },
          "metadata": {
            "tags": [],
            "needs_background": "light"
          }
        },
        {
          "output_type": "display_data",
          "data": {
            "image/png": "[encoded data removed]",
            "text/plain": [
              "<Figure size 432x288 with 1 Axes>"
            ]
          },
          "metadata": {
            "tags": [],
            "needs_background": "light"
          }
        }
      ]
    },
    {
      "cell_type": "markdown",
      "metadata": {
        "id": "uQ3Ep_ZM2QeB"
      },
      "source": [
        "## One layer Bidirectional LSTM Implementation"
      ]
    },
    {
      "cell_type": "code",
      "metadata": {
        "colab": {
          "base_uri": "https://localhost:8080/"
        },
        "id": "XiPv3kGs1lqL",
        "outputId": "b6607089-522b-4355-c129-45f1da2c33e0"
      },
      "source": [
        "# Model Definition with LSTM\n",
        "model = tf.keras.Sequential([\n",
        "    tf.keras.layers.Embedding(vocab_size, embedding_dim, input_length=max_length),\n",
        "    tf.keras.layers.Bidirectional(tf.keras.layers.LSTM(32)),\n",
        "    tf.keras.layers.Dense(6, activation='relu'),\n",
        "    tf.keras.layers.Dense(1, activation='sigmoid')\n",
        "])\n",
        "model.compile(loss='binary_crossentropy',optimizer='adam',metrics=['accuracy'])\n",
        "model.summary()"
      ],
      "execution_count": 9,
      "outputs": [
        {
          "output_type": "stream",
          "text": [
            "Model: \"sequential_1\"\n",
            "_________________________________________________________________\n",
            "Layer (type)                 Output Shape              Param #   \n",
            "=================================================================\n",
            "embedding_1 (Embedding)      (None, 120, 16)           160000    \n",
            "_________________________________________________________________\n",
            "bidirectional_1 (Bidirection (None, 64)                12544     \n",
            "_________________________________________________________________\n",
            "dense_2 (Dense)              (None, 6)                 390       \n",
            "_________________________________________________________________\n",
            "dense_3 (Dense)              (None, 1)                 7         \n",
            "=================================================================\n",
            "Total params: 172,941\n",
            "Trainable params: 172,941\n",
            "Non-trainable params: 0\n",
            "_________________________________________________________________\n"
          ],
          "name": "stdout"
        }
      ]
    },
    {
      "cell_type": "code",
      "metadata": {
        "colab": {
          "base_uri": "https://localhost:8080/"
        },
        "id": "pDO2X7to1lhQ",
        "outputId": "548e06a6-6eed-45be-d702-1865e3d29ced"
      },
      "source": [
        "num_epochs = 50\n",
        "history = model.fit(padded, training_labels_final, epochs=num_epochs, validation_data=(testing_padded, testing_labels_final))"
      ],
      "execution_count": 10,
      "outputs": [
        {
          "output_type": "stream",
          "text": [
            "Epoch 1/50\n",
            "782/782 [==============================] - 51s 60ms/step - loss: 0.4501 - accuracy: 0.7840 - val_loss: 0.3786 - val_accuracy: 0.8364\n",
            "Epoch 2/50\n",
            "782/782 [==============================] - 47s 60ms/step - loss: 0.2933 - accuracy: 0.8843 - val_loss: 0.3703 - val_accuracy: 0.8344\n",
            "Epoch 3/50\n",
            "782/782 [==============================] - 46s 59ms/step - loss: 0.2403 - accuracy: 0.9089 - val_loss: 0.4011 - val_accuracy: 0.8310\n",
            "Epoch 4/50\n",
            "782/782 [==============================] - 46s 59ms/step - loss: 0.2015 - accuracy: 0.9259 - val_loss: 0.4268 - val_accuracy: 0.8237\n",
            "Epoch 5/50\n",
            "782/782 [==============================] - 46s 59ms/step - loss: 0.1594 - accuracy: 0.9428 - val_loss: 0.4476 - val_accuracy: 0.8199\n",
            "Epoch 6/50\n",
            "782/782 [==============================] - 46s 59ms/step - loss: 0.1355 - accuracy: 0.9535 - val_loss: 0.5093 - val_accuracy: 0.8288\n",
            "Epoch 7/50\n",
            "782/782 [==============================] - 46s 59ms/step - loss: 0.1078 - accuracy: 0.9636 - val_loss: 0.5495 - val_accuracy: 0.8248\n",
            "Epoch 8/50\n",
            "782/782 [==============================] - 46s 59ms/step - loss: 0.0820 - accuracy: 0.9747 - val_loss: 0.6029 - val_accuracy: 0.8207\n",
            "Epoch 9/50\n",
            "782/782 [==============================] - 46s 59ms/step - loss: 0.0727 - accuracy: 0.9775 - val_loss: 0.5975 - val_accuracy: 0.7813\n",
            "Epoch 10/50\n",
            "782/782 [==============================] - 46s 59ms/step - loss: 0.0621 - accuracy: 0.9811 - val_loss: 0.6498 - val_accuracy: 0.8038\n",
            "Epoch 11/50\n",
            "782/782 [==============================] - 46s 59ms/step - loss: 0.0522 - accuracy: 0.9840 - val_loss: 0.7984 - val_accuracy: 0.7971\n",
            "Epoch 12/50\n",
            "782/782 [==============================] - 46s 59ms/step - loss: 0.0496 - accuracy: 0.9847 - val_loss: 0.7909 - val_accuracy: 0.8172\n",
            "Epoch 13/50\n",
            "782/782 [==============================] - 47s 60ms/step - loss: 0.0386 - accuracy: 0.9878 - val_loss: 0.7744 - val_accuracy: 0.7914\n",
            "Epoch 14/50\n",
            "782/782 [==============================] - 46s 59ms/step - loss: 0.0342 - accuracy: 0.9904 - val_loss: 0.7651 - val_accuracy: 0.7968\n",
            "Epoch 15/50\n",
            "782/782 [==============================] - 46s 59ms/step - loss: 0.0400 - accuracy: 0.9886 - val_loss: 0.7428 - val_accuracy: 0.8035\n",
            "Epoch 16/50\n",
            "782/782 [==============================] - 46s 59ms/step - loss: 0.0289 - accuracy: 0.9910 - val_loss: 0.8313 - val_accuracy: 0.8095\n",
            "Epoch 17/50\n",
            "782/782 [==============================] - 46s 59ms/step - loss: 0.0316 - accuracy: 0.9906 - val_loss: 0.8898 - val_accuracy: 0.8131\n",
            "Epoch 18/50\n",
            "782/782 [==============================] - 46s 59ms/step - loss: 0.0158 - accuracy: 0.9954 - val_loss: 0.9844 - val_accuracy: 0.8075\n",
            "Epoch 19/50\n",
            "782/782 [==============================] - 46s 59ms/step - loss: 0.0201 - accuracy: 0.9946 - val_loss: 0.8833 - val_accuracy: 0.7934\n",
            "Epoch 20/50\n",
            "782/782 [==============================] - 46s 59ms/step - loss: 0.0144 - accuracy: 0.9962 - val_loss: 1.0266 - val_accuracy: 0.7897\n",
            "Epoch 21/50\n",
            "782/782 [==============================] - 46s 59ms/step - loss: 0.0213 - accuracy: 0.9936 - val_loss: 0.9095 - val_accuracy: 0.8057\n",
            "Epoch 22/50\n",
            "782/782 [==============================] - 46s 59ms/step - loss: 0.0139 - accuracy: 0.9964 - val_loss: 1.0394 - val_accuracy: 0.7958\n",
            "Epoch 23/50\n",
            "782/782 [==============================] - 47s 59ms/step - loss: 0.0185 - accuracy: 0.9940 - val_loss: 0.9142 - val_accuracy: 0.7936\n",
            "Epoch 24/50\n",
            "782/782 [==============================] - 47s 60ms/step - loss: 0.0167 - accuracy: 0.9947 - val_loss: 0.9716 - val_accuracy: 0.7982\n",
            "Epoch 25/50\n",
            "782/782 [==============================] - 47s 60ms/step - loss: 0.0122 - accuracy: 0.9968 - val_loss: 0.9647 - val_accuracy: 0.7988\n",
            "Epoch 26/50\n",
            "782/782 [==============================] - 47s 60ms/step - loss: 0.0119 - accuracy: 0.9965 - val_loss: 1.1021 - val_accuracy: 0.7979\n",
            "Epoch 27/50\n",
            "782/782 [==============================] - 47s 60ms/step - loss: 0.0128 - accuracy: 0.9962 - val_loss: 1.0350 - val_accuracy: 0.7940\n",
            "Epoch 28/50\n",
            "782/782 [==============================] - 47s 60ms/step - loss: 0.0092 - accuracy: 0.9975 - val_loss: 1.0795 - val_accuracy: 0.7976\n",
            "Epoch 29/50\n",
            "782/782 [==============================] - 47s 60ms/step - loss: 0.0117 - accuracy: 0.9960 - val_loss: 1.0791 - val_accuracy: 0.8054\n",
            "Epoch 30/50\n",
            "782/782 [==============================] - 47s 60ms/step - loss: 0.0057 - accuracy: 0.9986 - val_loss: 1.1614 - val_accuracy: 0.8048\n",
            "Epoch 31/50\n",
            "782/782 [==============================] - 46s 59ms/step - loss: 9.8743e-04 - accuracy: 0.9998 - val_loss: 1.2769 - val_accuracy: 0.7903\n",
            "Epoch 32/50\n",
            "782/782 [==============================] - 47s 60ms/step - loss: 0.0155 - accuracy: 0.9950 - val_loss: 0.9657 - val_accuracy: 0.8020\n",
            "Epoch 33/50\n",
            "782/782 [==============================] - 47s 60ms/step - loss: 0.0063 - accuracy: 0.9980 - val_loss: 1.0900 - val_accuracy: 0.8001\n",
            "Epoch 34/50\n",
            "782/782 [==============================] - 47s 60ms/step - loss: 0.0066 - accuracy: 0.9977 - val_loss: 1.1717 - val_accuracy: 0.8012\n",
            "Epoch 35/50\n",
            "782/782 [==============================] - 47s 60ms/step - loss: 0.0056 - accuracy: 0.9982 - val_loss: 1.2292 - val_accuracy: 0.7942\n",
            "Epoch 36/50\n",
            "782/782 [==============================] - 47s 60ms/step - loss: 0.0096 - accuracy: 0.9972 - val_loss: 1.0962 - val_accuracy: 0.7954\n",
            "Epoch 37/50\n",
            "782/782 [==============================] - 47s 60ms/step - loss: 0.0051 - accuracy: 0.9986 - val_loss: 1.1194 - val_accuracy: 0.7923\n",
            "Epoch 38/50\n",
            "782/782 [==============================] - 47s 60ms/step - loss: 0.0048 - accuracy: 0.9986 - val_loss: 1.2089 - val_accuracy: 0.8024\n",
            "Epoch 39/50\n",
            "782/782 [==============================] - 47s 60ms/step - loss: 0.0074 - accuracy: 0.9982 - val_loss: 1.1769 - val_accuracy: 0.7888\n",
            "Epoch 40/50\n",
            "782/782 [==============================] - 47s 60ms/step - loss: 0.0061 - accuracy: 0.9982 - val_loss: 1.2285 - val_accuracy: 0.8018\n",
            "Epoch 41/50\n",
            "782/782 [==============================] - 47s 60ms/step - loss: 0.0047 - accuracy: 0.9986 - val_loss: 1.1130 - val_accuracy: 0.7721\n",
            "Epoch 42/50\n",
            "782/782 [==============================] - 47s 60ms/step - loss: 0.0127 - accuracy: 0.9962 - val_loss: 1.2973 - val_accuracy: 0.7958\n",
            "Epoch 43/50\n",
            "782/782 [==============================] - 47s 60ms/step - loss: 0.0037 - accuracy: 0.9989 - val_loss: 1.2733 - val_accuracy: 0.7924\n",
            "Epoch 44/50\n",
            "782/782 [==============================] - 47s 60ms/step - loss: 0.0048 - accuracy: 0.9989 - val_loss: 1.2957 - val_accuracy: 0.7910\n",
            "Epoch 45/50\n",
            "782/782 [==============================] - 47s 60ms/step - loss: 0.0032 - accuracy: 0.9990 - val_loss: 1.3484 - val_accuracy: 0.7789\n",
            "Epoch 46/50\n",
            "782/782 [==============================] - 47s 60ms/step - loss: 0.0027 - accuracy: 0.9994 - val_loss: 1.4076 - val_accuracy: 0.7988\n",
            "Epoch 47/50\n",
            "782/782 [==============================] - 47s 60ms/step - loss: 0.0068 - accuracy: 0.9978 - val_loss: 1.2298 - val_accuracy: 0.7943\n",
            "Epoch 48/50\n",
            "782/782 [==============================] - 47s 60ms/step - loss: 0.0027 - accuracy: 0.9992 - val_loss: 1.2480 - val_accuracy: 0.7951\n",
            "Epoch 49/50\n",
            "782/782 [==============================] - 47s 60ms/step - loss: 0.0072 - accuracy: 0.9979 - val_loss: 1.2731 - val_accuracy: 0.7841\n",
            "Epoch 50/50\n",
            "782/782 [==============================] - 47s 60ms/step - loss: 0.0035 - accuracy: 0.9987 - val_loss: 1.3472 - val_accuracy: 0.7914\n"
          ],
          "name": "stdout"
        }
      ]
    },
    {
      "cell_type": "code",
      "metadata": {
        "colab": {
          "base_uri": "https://localhost:8080/",
          "height": 279
        },
        "id": "7QcqLo9j1lXs",
        "outputId": "8582ba03-a89a-45a1-a7af-39ff01dc732e"
      },
      "source": [
        "plot_graphs(history, 'accuracy')"
      ],
      "execution_count": 11,
      "outputs": [
        {
          "output_type": "display_data",
          "data": {
            "image/png": "[encoded data removed]",
            "text/plain": [
              "<Figure size 432x288 with 1 Axes>"
            ]
          },
          "metadata": {
            "tags": [],
            "needs_background": "light"
          }
        }
      ]
    },
    {
      "cell_type": "code",
      "metadata": {
        "colab": {
          "base_uri": "https://localhost:8080/",
          "height": 279
        },
        "id": "EICZRWB01lNG",
        "outputId": "f26a2c04-6ef4-41b5-dc6a-a99e30fb2697"
      },
      "source": [
        "plot_graphs(history, 'loss')"
      ],
      "execution_count": 12,
      "outputs": [
        {
          "output_type": "display_data",
          "data": {
            "image/png": "[encoded data removed]",
            "text/plain": [
              "<Figure size 432x288 with 1 Axes>"
            ]
          },
          "metadata": {
            "tags": [],
            "needs_background": "light"
          }
        }
      ]
    },
    {
      "cell_type": "markdown",
      "metadata": {
        "id": "B7bEiX_d2pUS"
      },
      "source": [
        "## Conv1D for text classification Implementation"
      ]
    },
    {
      "cell_type": "code",
      "metadata": {
        "colab": {
          "base_uri": "https://localhost:8080/"
        },
        "id": "KH2TgmeE1lDH",
        "outputId": "27468a59-a17e-4c0d-978b-9f399cc0082d"
      },
      "source": [
        "# Model Definition with Conv1D\n",
        "model = tf.keras.Sequential([\n",
        "    tf.keras.layers.Embedding(vocab_size, embedding_dim, input_length=max_length),\n",
        "    tf.keras.layers.Conv1D(128, 5, activation='relu'),\n",
        "    tf.keras.layers.GlobalAveragePooling1D(),\n",
        "    tf.keras.layers.Dense(6, activation='relu'),\n",
        "    tf.keras.layers.Dense(1, activation='sigmoid')\n",
        "])\n",
        "model.compile(loss='binary_crossentropy',optimizer='adam',metrics=['accuracy'])\n",
        "model.summary()"
      ],
      "execution_count": 13,
      "outputs": [
        {
          "output_type": "stream",
          "text": [
            "Model: \"sequential_2\"\n",
            "_________________________________________________________________\n",
            "Layer (type)                 Output Shape              Param #   \n",
            "=================================================================\n",
            "embedding_2 (Embedding)      (None, 120, 16)           160000    \n",
            "_________________________________________________________________\n",
            "conv1d (Conv1D)              (None, 116, 128)          10368     \n",
            "_________________________________________________________________\n",
            "global_average_pooling1d (Gl (None, 128)               0         \n",
            "_________________________________________________________________\n",
            "dense_4 (Dense)              (None, 6)                 774       \n",
            "_________________________________________________________________\n",
            "dense_5 (Dense)              (None, 1)                 7         \n",
            "=================================================================\n",
            "Total params: 171,149\n",
            "Trainable params: 171,149\n",
            "Non-trainable params: 0\n",
            "_________________________________________________________________\n"
          ],
          "name": "stdout"
        }
      ]
    },
    {
      "cell_type": "code",
      "metadata": {
        "colab": {
          "base_uri": "https://localhost:8080/"
        },
        "id": "AQJkev3V1k4D",
        "outputId": "4ce9b259-98e1-4b6a-d6ae-e13f81b5341e"
      },
      "source": [
        "num_epochs = 50\n",
        "history = model.fit(padded, training_labels_final, epochs=num_epochs, validation_data=(testing_padded, testing_labels_final))"
      ],
      "execution_count": 14,
      "outputs": [
        {
          "output_type": "stream",
          "text": [
            "Epoch 1/50\n",
            "782/782 [==============================] - 33s 10ms/step - loss: 0.4355 - accuracy: 0.7885 - val_loss: 0.3433 - val_accuracy: 0.8508\n",
            "Epoch 2/50\n",
            "782/782 [==============================] - 8s 11ms/step - loss: 0.2767 - accuracy: 0.8857 - val_loss: 0.3734 - val_accuracy: 0.8358\n",
            "Epoch 3/50\n",
            "782/782 [==============================] - 8s 10ms/step - loss: 0.2207 - accuracy: 0.9132 - val_loss: 0.3812 - val_accuracy: 0.8378\n",
            "Epoch 4/50\n",
            "782/782 [==============================] - 8s 10ms/step - loss: 0.1825 - accuracy: 0.9328 - val_loss: 0.4202 - val_accuracy: 0.8314\n",
            "Epoch 5/50\n",
            "782/782 [==============================] - 8s 10ms/step - loss: 0.1471 - accuracy: 0.9490 - val_loss: 0.4596 - val_accuracy: 0.8234\n",
            "Epoch 6/50\n",
            "782/782 [==============================] - 8s 10ms/step - loss: 0.1179 - accuracy: 0.9615 - val_loss: 0.5333 - val_accuracy: 0.8194\n",
            "Epoch 7/50\n",
            "782/782 [==============================] - 8s 10ms/step - loss: 0.0916 - accuracy: 0.9716 - val_loss: 0.6119 - val_accuracy: 0.8162\n",
            "Epoch 8/50\n",
            "782/782 [==============================] - 8s 10ms/step - loss: 0.0732 - accuracy: 0.9782 - val_loss: 0.7473 - val_accuracy: 0.8041\n",
            "Epoch 9/50\n",
            "782/782 [==============================] - 8s 10ms/step - loss: 0.0575 - accuracy: 0.9828 - val_loss: 0.8632 - val_accuracy: 0.7988\n",
            "Epoch 10/50\n",
            "782/782 [==============================] - 8s 10ms/step - loss: 0.0472 - accuracy: 0.9857 - val_loss: 0.8933 - val_accuracy: 0.8080\n",
            "Epoch 11/50\n",
            "782/782 [==============================] - 8s 10ms/step - loss: 0.0365 - accuracy: 0.9896 - val_loss: 0.9911 - val_accuracy: 0.8036\n",
            "Epoch 12/50\n",
            "782/782 [==============================] - 8s 10ms/step - loss: 0.0282 - accuracy: 0.9916 - val_loss: 1.1255 - val_accuracy: 0.7969\n",
            "Epoch 13/50\n",
            "782/782 [==============================] - 8s 10ms/step - loss: 0.0259 - accuracy: 0.9919 - val_loss: 1.1330 - val_accuracy: 0.8017\n",
            "Epoch 14/50\n",
            "782/782 [==============================] - 8s 10ms/step - loss: 0.0232 - accuracy: 0.9923 - val_loss: 1.3001 - val_accuracy: 0.7954\n",
            "Epoch 15/50\n",
            "782/782 [==============================] - 8s 10ms/step - loss: 0.0146 - accuracy: 0.9958 - val_loss: 1.4096 - val_accuracy: 0.8015\n",
            "Epoch 16/50\n",
            "782/782 [==============================] - 8s 10ms/step - loss: 0.0123 - accuracy: 0.9956 - val_loss: 1.5151 - val_accuracy: 0.8008\n",
            "Epoch 17/50\n",
            "782/782 [==============================] - 8s 10ms/step - loss: 0.0124 - accuracy: 0.9961 - val_loss: 1.6163 - val_accuracy: 0.7985\n",
            "Epoch 18/50\n",
            "782/782 [==============================] - 8s 10ms/step - loss: 0.0129 - accuracy: 0.9954 - val_loss: 1.7656 - val_accuracy: 0.7970\n",
            "Epoch 19/50\n",
            "782/782 [==============================] - 8s 10ms/step - loss: 0.0102 - accuracy: 0.9965 - val_loss: 1.7251 - val_accuracy: 0.8011\n",
            "Epoch 20/50\n",
            "782/782 [==============================] - 8s 10ms/step - loss: 0.0071 - accuracy: 0.9977 - val_loss: 1.8213 - val_accuracy: 0.7977\n",
            "Epoch 21/50\n",
            "782/782 [==============================] - 8s 10ms/step - loss: 0.0061 - accuracy: 0.9978 - val_loss: 1.9277 - val_accuracy: 0.8007\n",
            "Epoch 22/50\n",
            "782/782 [==============================] - 8s 10ms/step - loss: 0.0061 - accuracy: 0.9978 - val_loss: 1.9813 - val_accuracy: 0.7990\n",
            "Epoch 23/50\n",
            "782/782 [==============================] - 8s 10ms/step - loss: 0.0081 - accuracy: 0.9971 - val_loss: 2.0773 - val_accuracy: 0.7969\n",
            "Epoch 24/50\n",
            "782/782 [==============================] - 8s 10ms/step - loss: 0.0055 - accuracy: 0.9978 - val_loss: 2.1053 - val_accuracy: 0.8022\n",
            "Epoch 25/50\n",
            "782/782 [==============================] - 8s 10ms/step - loss: 0.0056 - accuracy: 0.9982 - val_loss: 2.1007 - val_accuracy: 0.8000\n",
            "Epoch 26/50\n",
            "782/782 [==============================] - 8s 10ms/step - loss: 0.0079 - accuracy: 0.9971 - val_loss: 2.1560 - val_accuracy: 0.7970\n",
            "Epoch 27/50\n",
            "782/782 [==============================] - 8s 10ms/step - loss: 0.0083 - accuracy: 0.9969 - val_loss: 2.0598 - val_accuracy: 0.8006\n",
            "Epoch 28/50\n",
            "782/782 [==============================] - 8s 10ms/step - loss: 0.0049 - accuracy: 0.9986 - val_loss: 2.1833 - val_accuracy: 0.7984\n",
            "Epoch 29/50\n",
            "782/782 [==============================] - 8s 10ms/step - loss: 0.0038 - accuracy: 0.9987 - val_loss: 2.1522 - val_accuracy: 0.8006\n",
            "Epoch 30/50\n",
            "782/782 [==============================] - 8s 10ms/step - loss: 0.0032 - accuracy: 0.9991 - val_loss: 2.2091 - val_accuracy: 0.8015\n",
            "Epoch 31/50\n",
            "782/782 [==============================] - 8s 10ms/step - loss: 0.0028 - accuracy: 0.9991 - val_loss: 2.3336 - val_accuracy: 0.8013\n",
            "Epoch 32/50\n",
            "782/782 [==============================] - 8s 10ms/step - loss: 0.0044 - accuracy: 0.9982 - val_loss: 2.2813 - val_accuracy: 0.7994\n",
            "Epoch 33/50\n",
            "782/782 [==============================] - 8s 10ms/step - loss: 0.0057 - accuracy: 0.9982 - val_loss: 2.1887 - val_accuracy: 0.7999\n",
            "Epoch 34/50\n",
            "782/782 [==============================] - 8s 10ms/step - loss: 0.0056 - accuracy: 0.9982 - val_loss: 2.3189 - val_accuracy: 0.7968\n",
            "Epoch 35/50\n",
            "782/782 [==============================] - 8s 10ms/step - loss: 0.0034 - accuracy: 0.9988 - val_loss: 2.2217 - val_accuracy: 0.7960\n",
            "Epoch 36/50\n",
            "782/782 [==============================] - 8s 10ms/step - loss: 0.0014 - accuracy: 0.9998 - val_loss: 2.4441 - val_accuracy: 0.7988\n",
            "Epoch 37/50\n",
            "782/782 [==============================] - 8s 11ms/step - loss: 4.5389e-04 - accuracy: 0.9999 - val_loss: 2.4695 - val_accuracy: 0.8006\n",
            "Epoch 38/50\n",
            "782/782 [==============================] - 8s 10ms/step - loss: 8.4658e-05 - accuracy: 1.0000 - val_loss: 2.5674 - val_accuracy: 0.7999\n",
            "Epoch 39/50\n",
            "782/782 [==============================] - 8s 10ms/step - loss: 2.7076e-05 - accuracy: 1.0000 - val_loss: 2.6237 - val_accuracy: 0.7994\n",
            "Epoch 40/50\n",
            "782/782 [==============================] - 8s 10ms/step - loss: 1.7891e-05 - accuracy: 1.0000 - val_loss: 2.6761 - val_accuracy: 0.7997\n",
            "Epoch 41/50\n",
            "782/782 [==============================] - 8s 10ms/step - loss: 1.2640e-05 - accuracy: 1.0000 - val_loss: 2.7354 - val_accuracy: 0.8004\n",
            "Epoch 42/50\n",
            "782/782 [==============================] - 8s 10ms/step - loss: 8.9994e-06 - accuracy: 1.0000 - val_loss: 2.8033 - val_accuracy: 0.8002\n",
            "Epoch 43/50\n",
            "782/782 [==============================] - 8s 10ms/step - loss: 6.1234e-06 - accuracy: 1.0000 - val_loss: 2.8770 - val_accuracy: 0.7996\n",
            "Epoch 44/50\n",
            "782/782 [==============================] - 8s 10ms/step - loss: 4.1322e-06 - accuracy: 1.0000 - val_loss: 2.9412 - val_accuracy: 0.8004\n",
            "Epoch 45/50\n",
            "782/782 [==============================] - 8s 10ms/step - loss: 2.8050e-06 - accuracy: 1.0000 - val_loss: 3.0236 - val_accuracy: 0.8003\n",
            "Epoch 46/50\n",
            "782/782 [==============================] - 8s 10ms/step - loss: 1.8760e-06 - accuracy: 1.0000 - val_loss: 3.1071 - val_accuracy: 0.8002\n",
            "Epoch 47/50\n",
            "782/782 [==============================] - 8s 10ms/step - loss: 1.2462e-06 - accuracy: 1.0000 - val_loss: 3.1943 - val_accuracy: 0.8002\n",
            "Epoch 48/50\n",
            "782/782 [==============================] - 8s 10ms/step - loss: 8.2293e-07 - accuracy: 1.0000 - val_loss: 3.2840 - val_accuracy: 0.8000\n",
            "Epoch 49/50\n",
            "782/782 [==============================] - 8s 10ms/step - loss: 5.4641e-07 - accuracy: 1.0000 - val_loss: 3.3802 - val_accuracy: 0.8002\n",
            "Epoch 50/50\n",
            "782/782 [==============================] - 8s 10ms/step - loss: 3.5152e-07 - accuracy: 1.0000 - val_loss: 3.4687 - val_accuracy: 0.8003\n"
          ],
          "name": "stdout"
        }
      ]
    },
    {
      "cell_type": "code",
      "metadata": {
        "colab": {
          "base_uri": "https://localhost:8080/",
          "height": 279
        },
        "id": "kn-_IXWq2zvY",
        "outputId": "da60a03a-aca6-4568-e0dd-33e7415a1d0e"
      },
      "source": [
        "plot_graphs(history, 'accuracy')"
      ],
      "execution_count": 15,
      "outputs": [
        {
          "output_type": "display_data",
          "data": {
            "image/png": "[encoded data removed]",
            "text/plain": [
              "<Figure size 432x288 with 1 Axes>"
            ]
          },
          "metadata": {
            "tags": [],
            "needs_background": "light"
          }
        }
      ]
    },
    {
      "cell_type": "code",
      "metadata": {
        "colab": {
          "base_uri": "https://localhost:8080/",
          "height": 279
        },
        "id": "TZ1Dst1j2zdC",
        "outputId": "f545b145-4361-4d03-e6d7-2fff1d3d92e0"
      },
      "source": [
        "plot_graphs(history, 'loss')"
      ],
      "execution_count": 16,
      "outputs": [
        {
          "output_type": "display_data",
          "data": {
            "image/png": "[encoded data removed]",
            "text/plain": [
              "<Figure size 432x288 with 1 Axes>"
            ]
          },
          "metadata": {
            "tags": [],
            "needs_background": "light"
          }
        }
      ]
    },
    {
      "cell_type": "code",
      "metadata": {
        "id": "HhLVJhpgJtPy"
      },
      "source": [
        ""
      ],
      "execution_count": null,
      "outputs": []
    }
  ]
}