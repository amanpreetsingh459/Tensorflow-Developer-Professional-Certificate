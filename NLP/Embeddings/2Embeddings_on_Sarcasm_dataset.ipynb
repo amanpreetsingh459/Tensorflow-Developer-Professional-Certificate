{
  "nbformat": 4,
  "nbformat_minor": 0,
  "metadata": {
    "colab": {
      "name": "2Embeddings_on_Sarcasm_dataset.ipynb",
      "provenance": []
    },
    "kernelspec": {
      "name": "python3",
      "display_name": "Python 3"
    },
    "language_info": {
      "name": "python"
    },
    "accelerator": "GPU"
  },
  "cells": [
    {
      "cell_type": "code",
      "metadata": {
        "colab": {
          "base_uri": "https://localhost:8080/"
        },
        "id": "IDA7pgABg3rj",
        "outputId": "63ec2221-da41-41fc-ab9e-0f34bc950d14"
      },
      "source": [
        "!wget --no-check-certificate https://storage.googleapis.com/laurencemoroney-blog.appspot.com/sarcasm.json \\\n",
        "    -O /tmp/sarcasm.json"
      ],
      "execution_count": 4,
      "outputs": [
        {
          "output_type": "stream",
          "text": [
            "--2021-08-08 11:26:30--  https://storage.googleapis.com/laurencemoroney-blog.appspot.com/sarcasm.json\n",
            "Resolving storage.googleapis.com (storage.googleapis.com)... 142.250.141.128, 142.251.2.128, 2607:f8b0:4023:c06::80, ...\n",
            "Connecting to storage.googleapis.com (storage.googleapis.com)|142.250.141.128|:443... connected.\n",
            "HTTP request sent, awaiting response... 200 OK\n",
            "Length: 5643545 (5.4M) [application/json]\n",
            "Saving to: ‘/tmp/sarcasm.json’\n",
            "\n",
            "\r/tmp/sarcasm.json     0%[                    ]       0  --.-KB/s               \r/tmp/sarcasm.json   100%[===================>]   5.38M  --.-KB/s    in 0.03s   \n",
            "\n",
            "2021-08-08 11:26:30 (204 MB/s) - ‘/tmp/sarcasm.json’ saved [5643545/5643545]\n",
            "\n"
          ],
          "name": "stdout"
        }
      ]
    },
    {
      "cell_type": "code",
      "metadata": {
        "id": "IlYnFMXNgaFL"
      },
      "source": [
        "import tensorflow as tf"
      ],
      "execution_count": 1,
      "outputs": []
    },
    {
      "cell_type": "code",
      "metadata": {
        "colab": {
          "base_uri": "https://localhost:8080/",
          "height": 35
        },
        "id": "e6GePQiWgs1g",
        "outputId": "8bd90bc1-7df2-4688-90b1-541e07201c1d"
      },
      "source": [
        "tf.__version__"
      ],
      "execution_count": 2,
      "outputs": [
        {
          "output_type": "execute_result",
          "data": {
            "application/vnd.google.colaboratory.intrinsic+json": {
              "type": "string"
            },
            "text/plain": [
              "'2.5.0'"
            ]
          },
          "metadata": {
            "tags": []
          },
          "execution_count": 2
        }
      ]
    },
    {
      "cell_type": "code",
      "metadata": {
        "id": "mWxCo5vIgvDt"
      },
      "source": [
        "import json\n",
        "from tensorflow.keras.preprocessing.text import Tokenizer\n",
        "from tensorflow.keras.preprocessing.sequence import pad_sequences"
      ],
      "execution_count": 3,
      "outputs": []
    },
    {
      "cell_type": "code",
      "metadata": {
        "id": "RUsAEEaWgzxs"
      },
      "source": [
        "with open(\"/tmp/sarcasm.json\", 'r') as f:\n",
        "    datastore = json.load(f)\n",
        "\n",
        "sentences = []\n",
        "labels = []\n",
        "\n",
        "for item in datastore:\n",
        "    sentences.append(item['headline'])\n",
        "    labels.append(item['is_sarcastic'])"
      ],
      "execution_count": 5,
      "outputs": []
    },
    {
      "cell_type": "code",
      "metadata": {
        "colab": {
          "base_uri": "https://localhost:8080/"
        },
        "id": "orHD25WQhBES",
        "outputId": "e6b9ea51-ddcf-4e8c-e3d9-8ae6e7cd1314"
      },
      "source": [
        "print(len(sentences))\n",
        "print(len(labels))\n",
        "print(sentences[0])\n",
        "print(labels[0])"
      ],
      "execution_count": 6,
      "outputs": [
        {
          "output_type": "stream",
          "text": [
            "26709\n",
            "26709\n",
            "former versace store clerk sues over secret 'black code' for minority shoppers\n",
            "0\n"
          ],
          "name": "stdout"
        }
      ]
    },
    {
      "cell_type": "code",
      "metadata": {
        "id": "0-3WdbE4heHi"
      },
      "source": [
        "vocab_size = 5000\n",
        "embedding_dim = 32\n",
        "max_length = 750\n",
        "trunc_type='post'\n",
        "padding_type='post'\n",
        "oov_tok = \"<OOV>\"\n",
        "training_size = 20000"
      ],
      "execution_count": 88,
      "outputs": []
    },
    {
      "cell_type": "code",
      "metadata": {
        "id": "FsDsDMh6hIAL"
      },
      "source": [
        "training_sentences = sentences[0:training_size]\n",
        "testing_sentences = sentences[training_size:]\n",
        "training_labels = labels[0:training_size]\n",
        "testing_labels = labels[training_size:]"
      ],
      "execution_count": 89,
      "outputs": []
    },
    {
      "cell_type": "code",
      "metadata": {
        "id": "V6VCJi-khLoS"
      },
      "source": [
        "tokenizer = Tokenizer(num_words=vocab_size, oov_token=oov_tok)\n",
        "tokenizer.fit_on_texts(training_sentences)\n",
        "\n",
        "word_index = tokenizer.word_index"
      ],
      "execution_count": 90,
      "outputs": []
    },
    {
      "cell_type": "code",
      "metadata": {
        "id": "IPhcKozLhZaH"
      },
      "source": [
        "training_sequences = tokenizer.texts_to_sequences(training_sentences)\n",
        "training_padded = pad_sequences(training_sequences, maxlen=max_length, padding=padding_type, truncating=trunc_type)"
      ],
      "execution_count": 91,
      "outputs": []
    },
    {
      "cell_type": "code",
      "metadata": {
        "id": "MWRe_JJohjEM"
      },
      "source": [
        "testing_sequences = tokenizer.texts_to_sequences(testing_sentences)\n",
        "testing_padded = pad_sequences(testing_sequences, maxlen=max_length, padding=padding_type, truncating=trunc_type)"
      ],
      "execution_count": 92,
      "outputs": []
    },
    {
      "cell_type": "code",
      "metadata": {
        "id": "R84X593OhkQR"
      },
      "source": [
        "import numpy as np\n",
        "training_padded = np.array(training_padded)\n",
        "training_labels = np.array(training_labels)\n",
        "testing_padded = np.array(testing_padded)\n",
        "testing_labels = np.array(testing_labels)"
      ],
      "execution_count": 93,
      "outputs": []
    },
    {
      "cell_type": "code",
      "metadata": {
        "id": "bp9rgq_5hsMx"
      },
      "source": [
        "model = tf.keras.Sequential([\n",
        "    tf.keras.layers.Embedding(vocab_size, embedding_dim, input_length=max_length),\n",
        "    tf.keras.layers.GlobalAveragePooling1D(),\n",
        "    tf.keras.layers.Dense(24, activation='relu'),\n",
        "    tf.keras.layers.Dense(1, activation='sigmoid')\n",
        "])"
      ],
      "execution_count": 94,
      "outputs": []
    },
    {
      "cell_type": "code",
      "metadata": {
        "id": "je4wOcV6iC_G"
      },
      "source": [
        "model.compile(loss='binary_crossentropy',optimizer='adam',metrics=['accuracy'])"
      ],
      "execution_count": 95,
      "outputs": []
    },
    {
      "cell_type": "code",
      "metadata": {
        "colab": {
          "base_uri": "https://localhost:8080/"
        },
        "id": "U9VomNAfiFS9",
        "outputId": "0c39bb9b-921a-4dbb-b89c-59138aafe327"
      },
      "source": [
        "model.summary()"
      ],
      "execution_count": 96,
      "outputs": [
        {
          "output_type": "stream",
          "text": [
            "Model: \"sequential_7\"\n",
            "_________________________________________________________________\n",
            "Layer (type)                 Output Shape              Param #   \n",
            "=================================================================\n",
            "embedding_7 (Embedding)      (None, 750, 32)           160000    \n",
            "_________________________________________________________________\n",
            "global_average_pooling1d_7 ( (None, 32)                0         \n",
            "_________________________________________________________________\n",
            "dense_14 (Dense)             (None, 24)                792       \n",
            "_________________________________________________________________\n",
            "dense_15 (Dense)             (None, 1)                 25        \n",
            "=================================================================\n",
            "Total params: 160,817\n",
            "Trainable params: 160,817\n",
            "Non-trainable params: 0\n",
            "_________________________________________________________________\n"
          ],
          "name": "stdout"
        }
      ]
    },
    {
      "cell_type": "code",
      "metadata": {
        "colab": {
          "base_uri": "https://localhost:8080/"
        },
        "id": "jxs0Xr3FiL1r",
        "outputId": "5877c75a-fc11-4c05-8ebb-164340a5bb6e"
      },
      "source": [
        "num_epochs = 30\n",
        "history = model.fit(training_padded, training_labels, epochs=num_epochs, validation_data=(testing_padded, testing_labels), verbose=2)"
      ],
      "execution_count": 97,
      "outputs": [
        {
          "output_type": "stream",
          "text": [
            "Epoch 1/30\n",
            "625/625 - 4s - loss: 0.6853 - accuracy: 0.5603 - val_loss: 0.6848 - val_accuracy: 0.5633\n",
            "Epoch 2/30\n",
            "625/625 - 3s - loss: 0.6739 - accuracy: 0.5689 - val_loss: 0.6475 - val_accuracy: 0.5645\n",
            "Epoch 3/30\n",
            "625/625 - 3s - loss: 0.5575 - accuracy: 0.7335 - val_loss: 0.4735 - val_accuracy: 0.7980\n",
            "Epoch 4/30\n",
            "625/625 - 3s - loss: 0.4187 - accuracy: 0.8201 - val_loss: 0.4083 - val_accuracy: 0.8241\n",
            "Epoch 5/30\n",
            "625/625 - 3s - loss: 0.3650 - accuracy: 0.8460 - val_loss: 0.3847 - val_accuracy: 0.8372\n",
            "Epoch 6/30\n",
            "625/625 - 3s - loss: 0.3352 - accuracy: 0.8604 - val_loss: 0.3821 - val_accuracy: 0.8293\n",
            "Epoch 7/30\n",
            "625/625 - 3s - loss: 0.3162 - accuracy: 0.8685 - val_loss: 0.3890 - val_accuracy: 0.8259\n",
            "Epoch 8/30\n",
            "625/625 - 3s - loss: 0.2979 - accuracy: 0.8758 - val_loss: 0.3700 - val_accuracy: 0.8377\n",
            "Epoch 9/30\n",
            "625/625 - 3s - loss: 0.2854 - accuracy: 0.8799 - val_loss: 0.3614 - val_accuracy: 0.8442\n",
            "Epoch 10/30\n",
            "625/625 - 3s - loss: 0.2719 - accuracy: 0.8885 - val_loss: 0.3574 - val_accuracy: 0.8495\n",
            "Epoch 11/30\n",
            "625/625 - 3s - loss: 0.2665 - accuracy: 0.8881 - val_loss: 0.3920 - val_accuracy: 0.8243\n",
            "Epoch 12/30\n",
            "625/625 - 3s - loss: 0.2538 - accuracy: 0.8950 - val_loss: 0.3607 - val_accuracy: 0.8477\n",
            "Epoch 13/30\n",
            "625/625 - 3s - loss: 0.2487 - accuracy: 0.8982 - val_loss: 0.3650 - val_accuracy: 0.8442\n",
            "Epoch 14/30\n",
            "625/625 - 3s - loss: 0.2405 - accuracy: 0.9008 - val_loss: 0.4073 - val_accuracy: 0.8244\n",
            "Epoch 15/30\n",
            "625/625 - 3s - loss: 0.2340 - accuracy: 0.9039 - val_loss: 0.3814 - val_accuracy: 0.8423\n",
            "Epoch 16/30\n",
            "625/625 - 3s - loss: 0.2275 - accuracy: 0.9072 - val_loss: 0.3719 - val_accuracy: 0.8463\n",
            "Epoch 17/30\n",
            "625/625 - 3s - loss: 0.2234 - accuracy: 0.9079 - val_loss: 0.3837 - val_accuracy: 0.8426\n",
            "Epoch 18/30\n",
            "625/625 - 3s - loss: 0.2197 - accuracy: 0.9103 - val_loss: 0.3795 - val_accuracy: 0.8448\n",
            "Epoch 19/30\n",
            "625/625 - 3s - loss: 0.2174 - accuracy: 0.9103 - val_loss: 0.4380 - val_accuracy: 0.8199\n",
            "Epoch 20/30\n",
            "625/625 - 3s - loss: 0.2101 - accuracy: 0.9150 - val_loss: 0.3925 - val_accuracy: 0.8441\n",
            "Epoch 21/30\n",
            "625/625 - 3s - loss: 0.2049 - accuracy: 0.9168 - val_loss: 0.4055 - val_accuracy: 0.8398\n",
            "Epoch 22/30\n",
            "625/625 - 3s - loss: 0.1992 - accuracy: 0.9197 - val_loss: 0.4703 - val_accuracy: 0.8126\n",
            "Epoch 23/30\n",
            "625/625 - 3s - loss: 0.1999 - accuracy: 0.9175 - val_loss: 0.4187 - val_accuracy: 0.8375\n",
            "Epoch 24/30\n",
            "625/625 - 3s - loss: 0.1966 - accuracy: 0.9205 - val_loss: 0.4376 - val_accuracy: 0.8283\n",
            "Epoch 25/30\n",
            "625/625 - 3s - loss: 0.1967 - accuracy: 0.9191 - val_loss: 0.4172 - val_accuracy: 0.8411\n",
            "Epoch 26/30\n",
            "625/625 - 3s - loss: 0.1921 - accuracy: 0.9227 - val_loss: 0.4233 - val_accuracy: 0.8425\n",
            "Epoch 27/30\n",
            "625/625 - 3s - loss: 0.1874 - accuracy: 0.9233 - val_loss: 0.4280 - val_accuracy: 0.8398\n",
            "Epoch 28/30\n",
            "625/625 - 3s - loss: 0.1880 - accuracy: 0.9239 - val_loss: 0.4341 - val_accuracy: 0.8398\n",
            "Epoch 29/30\n",
            "625/625 - 3s - loss: 0.1851 - accuracy: 0.9257 - val_loss: 0.4562 - val_accuracy: 0.8316\n",
            "Epoch 30/30\n",
            "625/625 - 3s - loss: 0.1815 - accuracy: 0.9262 - val_loss: 0.4463 - val_accuracy: 0.8375\n"
          ],
          "name": "stdout"
        }
      ]
    },
    {
      "cell_type": "code",
      "metadata": {
        "colab": {
          "base_uri": "https://localhost:8080/",
          "height": 541
        },
        "id": "nLo_ChzqiQ5t",
        "outputId": "77d363c1-5197-46e9-eed1-ae20f605090e"
      },
      "source": [
        "import matplotlib.pyplot as plt\n",
        "\n",
        "def plot_graphs(history, string):\n",
        "  plt.plot(history.history[string])\n",
        "  plt.plot(history.history['val_'+string])\n",
        "  plt.xlabel(\"Epochs\")\n",
        "  plt.ylabel(string)\n",
        "  plt.legend([string, 'val_'+string])\n",
        "  plt.show()\n",
        "  \n",
        "plot_graphs(history, \"accuracy\")\n",
        "plot_graphs(history, \"loss\")"
      ],
      "execution_count": 98,
      "outputs": [
        {
          "output_type": "display_data",
          "data": {
            "image/png": "[encoded data removed]",
            "text/plain": [
              "<Figure size 432x288 with 1 Axes>"
            ]
          },
          "metadata": {
            "tags": [],
            "needs_background": "light"
          }
        },
        {
          "output_type": "display_data",
          "data": {
            "image/png": "[encoded data removed]",
            "text/plain": [
              "<Figure size 432x288 with 1 Axes>"
            ]
          },
          "metadata": {
            "tags": [],
            "needs_background": "light"
          }
        }
      ]
    },
    {
      "cell_type": "code",
      "metadata": {
        "colab": {
          "base_uri": "https://localhost:8080/"
        },
        "id": "sue643GriXt6",
        "outputId": "d13fa1b3-5756-4bd4-826f-d8af221031b8"
      },
      "source": [
        "reverse_word_index = dict([(value, key) for (key, value) in word_index.items()])\n",
        "\n",
        "def decode_sentence(text):\n",
        "    return ' '.join([reverse_word_index.get(i, '?') for i in text])\n",
        "\n",
        "print(decode_sentence(training_padded[0]))\n",
        "print(training_sentences[2])\n",
        "print(labels[2])"
      ],
      "execution_count": 99,
      "outputs": [
        {
          "output_type": "stream",
          "text": [
            "former <OOV> store clerk sues over secret 'black <OOV> for minority <OOV> ? ? ? ? ? ? ? ? ? ? ? ? ? ? ? ? ? ? ? ? ? ? ? ? ? ? ? ? ? ? ? ? ? ? ? ? ? ? ? ? ? ? ? ? ? ? ? ? ? ? ? ? ? ? ? ? ? ? ? ? ? ? ? ? ? ? ? ? ? ? ? ? ? ? ? ? ? ? ? ? ? ? ? ? ? ? ? ? ? ? ? ? ? ? ? ? ? ? ? ? ? ? ? ? ? ? ? ? ? ? ? ? ? ? ? ? ? ? ? ? ? ? ? ? ? ? ? ? ? ? ? ? ? ? ? ? ? ? ? ? ? ? ? ? ? ? ? ? ? ? ? ? ? ? ? ? ? ? ? ? ? ? ? ? ? ? ? ? ? ? ? ? ? ? ? ? ? ? ? ? ? ? ? ? ? ? ? ? ? ? ? ? ? ? ? ? ? ? ? ? ? ? ? ? ? ? ? ? ? ? ? ? ? ? ? ? ? ? ? ? ? ? ? ? ? ? ? ? ? ? ? ? ? ? ? ? ? ? ? ? ? ? ? ? ? ? ? ? ? ? ? ? ? ? ? ? ? ? ? ? ? ? ? ? ? ? ? ? ? ? ? ? ? ? ? ? ? ? ? ? ? ? ? ? ? ? ? ? ? ? ? ? ? ? ? ? ? ? ? ? ? ? ? ? ? ? ? ? ? ? ? ? ? ? ? ? ? ? ? ? ? ? ? ? ? ? ? ? ? ? ? ? ? ? ? ? ? ? ? ? ? ? ? ? ? ? ? ? ? ? ? ? ? ? ? ? ? ? ? ? ? ? ? ? ? ? ? ? ? ? ? ? ? ? ? ? ? ? ? ? ? ? ? ? ? ? ? ? ? ? ? ? ? ? ? ? ? ? ? ? ? ? ? ? ? ? ? ? ? ? ? ? ? ? ? ? ? ? ? ? ? ? ? ? ? ? ? ? ? ? ? ? ? ? ? ? ? ? ? ? ? ? ? ? ? ? ? ? ? ? ? ? ? ? ? ? ? ? ? ? ? ? ? ? ? ? ? ? ? ? ? ? ? ? ? ? ? ? ? ? ? ? ? ? ? ? ? ? ? ? ? ? ? ? ? ? ? ? ? ? ? ? ? ? ? ? ? ? ? ? ? ? ? ? ? ? ? ? ? ? ? ? ? ? ? ? ? ? ? ? ? ? ? ? ? ? ? ? ? ? ? ? ? ? ? ? ? ? ? ? ? ? ? ? ? ? ? ? ? ? ? ? ? ? ? ? ? ? ? ? ? ? ? ? ? ? ? ? ? ? ? ? ? ? ? ? ? ? ? ? ? ? ? ? ? ? ? ? ? ? ? ? ? ? ? ? ? ? ? ? ? ? ? ? ? ? ? ? ? ? ? ? ? ? ? ? ? ? ? ? ? ? ? ? ? ? ? ? ? ? ? ? ? ? ? ? ? ? ? ? ? ? ? ? ? ? ? ? ? ? ? ? ? ? ? ? ? ? ? ? ? ? ? ? ? ? ? ? ? ? ? ? ? ? ? ? ? ? ? ? ? ? ? ? ? ? ? ? ? ? ? ? ? ? ? ? ? ? ? ? ? ? ? ? ? ? ? ? ? ? ? ? ? ? ? ? ? ? ? ? ? ? ? ? ? ? ? ?\n",
            "mom starting to fear son's web series closest thing she will have to grandchild\n",
            "1\n"
          ],
          "name": "stdout"
        }
      ]
    },
    {
      "cell_type": "code",
      "metadata": {
        "colab": {
          "base_uri": "https://localhost:8080/"
        },
        "id": "U-NF9j8OiXir",
        "outputId": "03713214-6a25-4816-8104-e66d9d7439bb"
      },
      "source": [
        "e = model.layers[0]\n",
        "weights = e.get_weights()[0]\n",
        "print(weights.shape) # shape: (vocab_size, embedding_dim)"
      ],
      "execution_count": 100,
      "outputs": [
        {
          "output_type": "stream",
          "text": [
            "(5000, 32)\n"
          ],
          "name": "stdout"
        }
      ]
    },
    {
      "cell_type": "code",
      "metadata": {
        "id": "Ed4YW0eHiXYM"
      },
      "source": [
        "import io\n",
        "\n",
        "out_v = io.open('vecs_sarcasm.tsv', 'w', encoding='utf-8')\n",
        "out_m = io.open('meta_sarcasm.tsv', 'w', encoding='utf-8')\n",
        "for word_num in range(1, vocab_size):\n",
        "  word = reverse_word_index[word_num]\n",
        "  embeddings = weights[word_num]\n",
        "  out_m.write(word + \"\\n\")\n",
        "  out_v.write('\\t'.join([str(x) for x in embeddings]) + \"\\n\")\n",
        "out_v.close()\n",
        "out_m.close()"
      ],
      "execution_count": 101,
      "outputs": []
    },
    {
      "cell_type": "code",
      "metadata": {
        "colab": {
          "base_uri": "https://localhost:8080/"
        },
        "id": "mREMx08dievH",
        "outputId": "379e8e9d-4ccc-4a90-e654-5d529307b005"
      },
      "source": [
        "sentence = [\"granny starting to fear spiders in the garden might be real\", \"game of thrones season finale showing this sunday night\"]\n",
        "sequences = tokenizer.texts_to_sequences(sentence)\n",
        "padded = pad_sequences(sequences, maxlen=max_length, padding=padding_type, truncating=trunc_type)\n",
        "print(model.predict(padded))"
      ],
      "execution_count": 102,
      "outputs": [
        {
          "output_type": "stream",
          "text": [
            "[[0.80643547]\n",
            " [0.05376033]]\n"
          ],
          "name": "stdout"
        }
      ]
    },
    {
      "cell_type": "code",
      "metadata": {
        "id": "cNPaHO8rmN5o"
      },
      "source": [
        ""
      ],
      "execution_count": null,
      "outputs": []
    }
  ]
}