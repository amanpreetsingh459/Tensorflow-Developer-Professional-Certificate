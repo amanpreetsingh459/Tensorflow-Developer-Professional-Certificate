{
 "cells": [
  {
   "cell_type": "markdown",
   "metadata": {},
   "source": [
    "### tokenization, text to sequences, padding"
   ]
  },
  {
   "cell_type": "code",
   "execution_count": 1,
   "metadata": {},
   "outputs": [
    {
     "name": "stderr",
     "output_type": "stream",
     "text": [
      "  % Total    % Received % Xferd  Average Speed   Time    Time     Time  Current\n",
      "                                 Dload  Upload   Total   Spent    Left  Speed\n",
      "\n",
      "  0     0    0     0    0     0      0      0 --:--:-- --:--:-- --:--:--     0\n",
      "  0     0    0     0    0     0      0      0 --:--:-- --:--:-- --:--:--     0\n",
      "  0 4938k    0  1504    0     0   1504      0  0:56:02  0:00:01  0:56:01   859\n",
      "  6 4938k    6  315k    0     0   157k      0  0:00:31  0:00:02  0:00:29  126k\n",
      " 12 4938k   12  601k    0     0   150k      0  0:00:32  0:00:04  0:00:28  136k\n",
      " 14 4938k   14  710k    0     0   177k      0  0:00:27  0:00:04  0:00:23  157k\n",
      " 27 4938k   27 1364k    0     0   272k      0  0:00:18  0:00:05  0:00:13  274k\n",
      " 40 4938k   40 2023k    0     0   337k      0  0:00:14  0:00:06  0:00:08  394k\n",
      " 49 4938k   49 2462k    0     0   351k      0  0:00:14  0:00:07  0:00:07  428k\n",
      " 59 4938k   59 2926k    0     0   365k      0  0:00:13  0:00:08  0:00:05  568k\n",
      " 67 4938k   67 3342k    0     0   371k      0  0:00:13  0:00:09  0:00:04  524k\n",
      " 76 4938k   76 3790k    0     0   379k      0  0:00:13  0:00:10  0:00:03  472k\n",
      " 85 4938k   85 4206k    0     0   382k      0  0:00:12  0:00:11  0:00:01  472k\n",
      " 94 4938k   94 4643k    0     0   386k      0  0:00:12  0:00:12 --:--:--  437k\n",
      "100 4938k  100 4938k    0     0   411k      0  0:00:12  0:00:12 --:--:--  453k\n"
     ]
    }
   ],
   "source": [
    "!curl -o bbc-text.csv https://storage.googleapis.com/laurencemoroney-blog.appspot.com/bbc-text.csv"
   ]
  },
  {
   "cell_type": "code",
   "execution_count": 2,
   "metadata": {},
   "outputs": [],
   "source": [
    "import csv\n",
    "from tensorflow.keras.preprocessing.text import Tokenizer\n",
    "from tensorflow.keras.preprocessing.sequence import pad_sequences"
   ]
  },
  {
   "cell_type": "code",
   "execution_count": 3,
   "metadata": {},
   "outputs": [],
   "source": [
    "#Stopwords list is at: https://github.com/Yoast/YoastSEO.js/blob/develop/src/config/stopwords.js\n",
    "\n",
    "stopwords = [\"a\", \"about\", \"above\", \"after\", \"again\", \"against\", \"all\", \"am\", \"an\", \"and\", \"any\", \"are\", \"as\", \"at\", \"be\", \"because\", \"been\", \"before\", \"being\", \"below\", \"between\", \"both\", \"but\", \"by\", \"could\", \"did\", \"do\", \"does\", \"doing\", \"down\", \"during\", \"each\", \"few\", \"for\", \"from\", \"further\", \"had\", \"has\", \"have\", \"having\", \"he\", \"he'd\", \"he'll\", \"he's\", \"her\", \"here\", \"here's\", \"hers\", \"herself\", \"him\", \"himself\", \"his\", \"how\", \"how's\", \"i\", \"i'd\", \"i'll\", \"i'm\", \"i've\", \"if\", \"in\", \"into\", \"is\", \"it\", \"it's\", \"its\", \"itself\", \"let's\", \"me\", \"more\", \"most\", \"my\", \"myself\", \"nor\", \"of\", \"on\", \"once\", \"only\", \"or\", \"other\", \"ought\", \"our\", \"ours\", \"ourselves\", \"out\", \"over\", \"own\", \"same\", \"she\", \"she'd\", \"she'll\", \"she's\", \"should\", \"so\", \"some\", \"such\", \"than\", \"that\", \"that's\", \"the\", \"their\", \"theirs\", \"them\", \"themselves\", \"then\", \"there\", \"there's\", \"these\", \"they\", \"they'd\", \"they'll\", \"they're\", \"they've\", \"this\", \"those\", \"through\", \"to\", \"too\", \"under\", \"until\", \"up\", \"very\", \"was\", \"we\", \"we'd\", \"we'll\", \"we're\", \"we've\", \"were\", \"what\", \"what's\", \"when\", \"when's\", \"where\", \"where's\", \"which\", \"while\", \"who\", \"who's\", \"whom\", \"why\", \"why's\", \"with\", \"would\", \"you\", \"you'd\", \"you'll\", \"you're\", \"you've\", \"your\", \"yours\", \"yourself\", \"yourselves\" ]"
   ]
  },
  {
   "cell_type": "code",
   "execution_count": 8,
   "metadata": {},
   "outputs": [],
   "source": [
    "sentences = []\n",
    "labels = []\n",
    "with open(\"bbc-text.csv\", 'r') as csvfile:\n",
    "    reader = csv.reader(csvfile, delimiter=',')\n",
    "    next(reader)\n",
    "    for row in reader:\n",
    "        labels.append(row[0])\n",
    "        sentence = row[1]\n",
    "        for word in stopwords:\n",
    "            token = \" \" + word + \" \"\n",
    "            sentence = sentence.replace(token, \" \")\n",
    "            sentence = sentence.replace(\"  \", \" \")\n",
    "        sentences.append(sentence)"
   ]
  },
  {
   "cell_type": "code",
   "execution_count": 10,
   "metadata": {},
   "outputs": [
    {
     "name": "stdout",
     "output_type": "stream",
     "text": [
      "2225\n",
      "tv future hands viewers home theatre systems plasma high-definition tvs digital video recorders moving living room way people watch tv will radically different five years time. according expert panel gathered annual consumer electronics show las vegas discuss new technologies will impact one favourite pastimes. us leading trend programmes content will delivered viewers via home networks cable satellite telecoms companies broadband service providers front rooms portable devices. one talked-about technologies ces digital personal video recorders (dvr pvr). set-top boxes like us s tivo uk s sky+ system allow people record store play pause forward wind tv programmes want. essentially technology allows much personalised tv. also built-in high-definition tv sets big business japan us slower take off europe lack high-definition programming. not can people forward wind adverts can also forget abiding network channel schedules putting together a-la-carte entertainment. us networks cable satellite companies worried means terms advertising revenues well brand identity viewer loyalty channels. although us leads technology moment also concern raised europe particularly growing uptake services like sky+. happens today will see nine months years time uk adam hume bbc broadcast s futurologist told bbc news website. likes bbc no issues lost advertising revenue yet. pressing issue moment commercial uk broadcasters brand loyalty important everyone. will talking content brands rather network brands said tim hanlon brand communications firm starcom mediavest. reality broadband connections anybody can producer content. added: challenge now hard promote programme much choice. means said stacey jolna senior vice president tv guide tv group way people find content want watch simplified tv viewers. means networks us terms channels take leaf google s book search engine future instead scheduler help people find want watch. kind channel model might work younger ipod generation used taking control gadgets play them. might not suit everyone panel recognised. older generations comfortable familiar schedules channel brands know getting. perhaps not want much choice put hands mr hanlon suggested. end kids just diapers pushing buttons already - everything possible available said mr hanlon. ultimately consumer will tell market want. 50 000 new gadgets technologies showcased ces many enhancing tv-watching experience. high-definition tv sets everywhere many new models lcd (liquid crystal display) tvs launched dvr capability built instead external boxes. one example launched show humax s 26-inch lcd tv 80-hour tivo dvr dvd recorder. one us s biggest satellite tv companies directtv even launched branded dvr show 100-hours recording capability instant replay search function. set can pause rewind tv 90 hours. microsoft chief bill gates announced pre-show keynote speech partnership tivo called tivotogo means people can play recorded programmes windows pcs mobile devices. reflect increasing trend freeing multimedia people can watch want want.\n"
     ]
    }
   ],
   "source": [
    "print(len(sentences))\n",
    "print(sentences[0])"
   ]
  },
  {
   "cell_type": "code",
   "execution_count": 11,
   "metadata": {},
   "outputs": [
    {
     "name": "stdout",
     "output_type": "stream",
     "text": [
      "29714\n"
     ]
    }
   ],
   "source": [
    "tokenizer = Tokenizer(oov_token=\"<OOV>\")\n",
    "tokenizer.fit_on_texts(sentences)\n",
    "word_index = tokenizer.word_index\n",
    "print(len(word_index))"
   ]
  },
  {
   "cell_type": "code",
   "execution_count": 13,
   "metadata": {},
   "outputs": [
    {
     "name": "stdout",
     "output_type": "stream",
     "text": [
      "[96, 176, 1158, 1221, 54, 1123, 742, 5215, 85, 1074, 4271, 147, 184, 4131, 1346, 1312, 1597, 47, 9, 949, 96, 4, 6518, 329, 92, 23, 17, 140, 3129, 1332, 2521, 577, 419, 1278, 72, 2963, 3047, 1756, 10, 894, 4, 755, 12, 954, 19516, 11, 656, 1579, 1053, 414, 4, 2002, 1221, 779, 54, 503, 1500, 2115, 1654, 135, 333, 123, 2745, 818, 5216, 1089, 610, 12, 4418, 3851, 894, 2581, 147, 351, 184, 4131, 8816, 5801, 44, 73, 3218, 31, 11, 2, 5477, 22, 2, 1398, 145, 454, 9, 138, 1399, 82, 4602, 489, 5217, 96, 1053, 87, 6519, 83, 2116, 63, 8817, 96, 8, 1124, 621, 85, 1074, 96, 1971, 148, 159, 420, 11, 2879, 46, 56, 149, 1222, 85, 1074, 4419, 5, 13, 9, 489, 5217, 3130, 13, 8, 2694, 6970, 412, 1098, 8818, 1377, 617, 1400, 2081, 14975, 756, 11, 503, 1500, 2115, 135, 1919, 410, 895, 2082, 1620, 43, 1820, 2582, 5000, 5478, 2522, 251, 11, 2636, 83, 819, 8, 1090, 1134, 149, 798, 578, 8819, 136, 31, 1398, 1821, 445, 4, 90, 955, 117, 23, 17, 22, 3397, 19517, 42, 1456, 2, 12600, 28, 42, 99, 362, 2395, 42, 24, 464, 243, 2082, 1378, 341, 5479, 326, 819, 1135, 22, 2637, 1820, 5478, 297, 736, 4, 1177, 414, 2045, 400, 412, 2045, 3, 1313, 12601, 1820, 1854, 70, 19518, 19519, 1795, 333, 1822, 3398, 13, 1202, 414, 48, 857, 21, 270, 2964, 366, 63, 572, 410, 3, 19520, 19521, 671, 1314, 205, 96, 3997, 96, 105, 47, 9, 352, 414, 87, 949, 14976, 96, 1221, 410, 503, 11, 895, 2522, 46, 10925, 851, 2, 547, 403, 1855, 176, 573, 19522, 141, 9, 352, 87, 949, 1203, 1098, 1501, 368, 68, 2046, 1264, 787, 94, 262, 299, 1031, 82, 613, 368, 5, 2583, 736, 1332, 2303, 1669, 6971, 3852, 3219, 8818, 1098, 2045, 185, 395, 1557, 5, 87, 63, 572, 114, 1158, 6, 12601, 975, 100, 3220, 26, 19523, 2350, 8820, 113, 770, 435, 440, 3, 6, 12601, 2638, 419, 4, 1502, 49, 87, 425, 38, 10, 1031, 894, 6972, 2581, 36, 4272, 96, 1723, 852, 85, 1074, 96, 1971, 7523, 36, 10, 1518, 6973, 6974, 4132, 1472, 4271, 648, 8816, 3853, 1124, 573, 4133, 3218, 12, 912, 648, 72, 19524, 2, 1347, 6142, 6973, 96, 1473, 1007, 5477, 8816, 587, 4134, 12, 11, 2, 248, 2115, 96, 135, 19525, 106, 648, 3048, 8816, 72, 501, 712, 2477, 3853, 5218, 3516, 403, 4799, 44, 13, 4602, 9755, 96, 1778, 712, 296, 122, 287, 2809, 344, 657, 72, 3998, 763, 3739, 5477, 163, 19526, 410, 9, 13, 82, 1779, 1053, 825, 874, 89, 610, 3131, 1379, 1579, 9756, 1670, 9, 13, 949, 87, 87]\n"
     ]
    }
   ],
   "source": [
    "sequences = tokenizer.texts_to_sequences(sentences)\n",
    "print(sequences[0])"
   ]
  },
  {
   "cell_type": "code",
   "execution_count": 14,
   "metadata": {},
   "outputs": [
    {
     "name": "stdout",
     "output_type": "stream",
     "text": [
      "[  96  176 1158 ...    0    0    0]\n",
      "(2225, 2442)\n"
     ]
    }
   ],
   "source": [
    "padded = pad_sequences(sequences, padding='post')\n",
    "print(padded[0])\n",
    "print(padded.shape)"
   ]
  },
  {
   "cell_type": "code",
   "execution_count": null,
   "metadata": {},
   "outputs": [],
   "source": [
    "label_tokenizer = Tokenizer()\n",
    "label_tokenizer.fit_on_texts(labels)\n",
    "label_word_index = label_tokenizer.word_index\n",
    "label_seq = label_tokenizer.texts_to_sequences(labels)"
   ]
  },
  {
   "cell_type": "code",
   "execution_count": 17,
   "metadata": {},
   "outputs": [
    {
     "name": "stdout",
     "output_type": "stream",
     "text": [
      "{'sport': 1, 'business': 2, 'politics': 3, 'tech': 4, 'entertainment': 5}\n"
     ]
    }
   ],
   "source": [
    "print(label_word_index)"
   ]
  },
  {
   "cell_type": "code",
   "execution_count": null,
   "metadata": {},
   "outputs": [],
   "source": []
  },
  {
   "cell_type": "code",
   "execution_count": null,
   "metadata": {},
   "outputs": [],
   "source": []
  }
 ],
 "metadata": {
  "kernelspec": {
   "display_name": "Python 3",
   "language": "python",
   "name": "python3"
  },
  "language_info": {
   "codemirror_mode": {
    "name": "ipython",
    "version": 3
   },
   "file_extension": ".py",
   "mimetype": "text/x-python",
   "name": "python",
   "nbconvert_exporter": "python",
   "pygments_lexer": "ipython3",
   "version": "3.7.6"
  }
 },
 "nbformat": 4,
 "nbformat_minor": 4
}
